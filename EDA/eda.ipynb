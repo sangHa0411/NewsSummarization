{
 "cells": [
  {
   "cell_type": "markdown",
   "source": [
    "## Library"
   ],
   "metadata": {}
  },
  {
   "cell_type": "code",
   "execution_count": 1,
   "source": [
    "from datasets import load_dataset,load_metric, DatasetDict, Dataset\n",
    "\n",
    "from transformers import (\n",
    "    AutoConfig,\n",
    "    AutoTokenizer,\n",
    "    T5TokenizerFast,\n",
    "    AutoModelForSeq2SeqLM, \n",
    "    DataCollatorForSeq2Seq, \n",
    "    Seq2SeqTrainingArguments, \n",
    "    Seq2SeqTrainer\n",
    ")\n",
    "\n",
    "import json\n",
    "import sys\n",
    "from tqdm import tqdm"
   ],
   "outputs": [],
   "metadata": {}
  },
  {
   "cell_type": "code",
   "execution_count": 2,
   "source": [
    "sys.path.append('../')"
   ],
   "outputs": [],
   "metadata": {}
  },
  {
   "cell_type": "code",
   "execution_count": 3,
   "source": [
    "import importlib\n",
    "import collections\n",
    "import matplotlib.pyplot as plt\n",
    "import datasets\n",
    "import numpy as np\n",
    "import pandas as pd\n",
    "import random\n",
    "import torch"
   ],
   "outputs": [],
   "metadata": {}
  },
  {
   "cell_type": "code",
   "execution_count": 4,
   "source": [
    "from loader import ArticleLoader\n",
    "from preprocessor import Preprocessor"
   ],
   "outputs": [],
   "metadata": {}
  },
  {
   "cell_type": "markdown",
   "source": [
    "## Model"
   ],
   "metadata": {}
  },
  {
   "cell_type": "code",
   "execution_count": 5,
   "source": [
    "model_checkpoint = \"t5-small\""
   ],
   "outputs": [],
   "metadata": {}
  },
  {
   "cell_type": "code",
   "execution_count": 6,
   "source": [
    "model_config = AutoConfig.from_pretrained(model_checkpoint)\n",
    "model = AutoModelForSeq2SeqLM.from_pretrained(model_checkpoint, config=model_config)"
   ],
   "outputs": [
    {
     "output_type": "stream",
     "name": "stderr",
     "text": [
      "/opt/conda/lib/python3.8/site-packages/transformers/configuration_utils.py:336: UserWarning: Passing `gradient_checkpointing` to a config initialization is deprecated and will be removed in v5 Transformers. Using `model.gradient_checkpointing_enable()` instead, or if you are using the `Trainer` API, pass `gradient_checkpointing=True` in your `TrainingArguments`.\n",
      "  warnings.warn(\n"
     ]
    }
   ],
   "metadata": {}
  },
  {
   "cell_type": "code",
   "execution_count": 7,
   "source": [
    "type(model)"
   ],
   "outputs": [
    {
     "output_type": "execute_result",
     "data": {
      "text/plain": [
       "transformers.models.t5.modeling_t5.T5ForConditionalGeneration"
      ]
     },
     "metadata": {},
     "execution_count": 7
    }
   ],
   "metadata": {}
  },
  {
   "cell_type": "markdown",
   "source": [
    "## Datasets"
   ],
   "metadata": {}
  },
  {
   "cell_type": "code",
   "execution_count": 9,
   "source": [
    "print('Loading Article Data')\n",
    "article_loader = ArticleLoader('../Data', '../theguardians_article_info.csv', 24000, 1000)\n",
    "datasets = article_loader.load_data()"
   ],
   "outputs": [
    {
     "output_type": "stream",
     "name": "stdout",
     "text": [
      "Loading Article Data\n"
     ]
    }
   ],
   "metadata": {}
  },
  {
   "cell_type": "code",
   "execution_count": 10,
   "source": [
    "datasets"
   ],
   "outputs": [
    {
     "output_type": "execute_result",
     "data": {
      "text/plain": [
       "DatasetDict({\n",
       "    train: Dataset({\n",
       "        features: ['summary', 'document', '__index_level_0__'],\n",
       "        num_rows: 4827\n",
       "    })\n",
       "    validation: Dataset({\n",
       "        features: ['summary', 'document', '__index_level_0__'],\n",
       "        num_rows: 4814\n",
       "    })\n",
       "})"
      ]
     },
     "metadata": {},
     "execution_count": 10
    }
   ],
   "metadata": {}
  },
  {
   "cell_type": "code",
   "execution_count": 12,
   "source": [
    "train_data = datasets['train']"
   ],
   "outputs": [],
   "metadata": {}
  },
  {
   "cell_type": "code",
   "execution_count": 13,
   "source": [
    "train_documents = [data['document'] for data in train_data]\n",
    "train_summaries = [data['summary'] for data in train_data]\n",
    "train_doc_len = [len(doc) for doc in train_documents]\n",
    "train_summary_len = [len(doc) for doc in train_summaries]"
   ],
   "outputs": [],
   "metadata": {}
  },
  {
   "cell_type": "code",
   "execution_count": 14,
   "source": [
    "plt.figure(figsize=(10,6))\n",
    "plt.title('Document Length', fontsize=15)\n",
    "plt.hist(train_doc_len, bins=100)\n",
    "plt.show()"
   ],
   "outputs": [
    {
     "output_type": "display_data",
     "data": {
      "text/plain": [
       "<Figure size 720x432 with 1 Axes>"
      ],
      "image/svg+xml": "<?xml version=\"1.0\" encoding=\"utf-8\" standalone=\"no\"?>\n<!DOCTYPE svg PUBLIC \"-//W3C//DTD SVG 1.1//EN\"\n  \"http://www.w3.org/Graphics/SVG/1.1/DTD/svg11.dtd\">\n<svg xmlns:xlink=\"http://www.w3.org/1999/xlink\" width=\"598.4875pt\" height=\"374.635781pt\" viewBox=\"0 0 598.4875 374.635781\" xmlns=\"http://www.w3.org/2000/svg\" version=\"1.1\">\n <metadata>\n  <rdf:RDF xmlns:dc=\"http://purl.org/dc/elements/1.1/\" xmlns:cc=\"http://creativecommons.org/ns#\" xmlns:rdf=\"http://www.w3.org/1999/02/22-rdf-syntax-ns#\">\n   <cc:Work>\n    <dc:type rdf:resource=\"http://purl.org/dc/dcmitype/StillImage\"/>\n    <dc:date>2021-11-23T09:46:39.517195</dc:date>\n    <dc:format>image/svg+xml</dc:format>\n    <dc:creator>\n     <cc:Agent>\n      <dc:title>Matplotlib v3.5.0, https://matplotlib.org/</dc:title>\n     </cc:Agent>\n    </dc:creator>\n   </cc:Work>\n  </rdf:RDF>\n </metadata>\n <defs>\n  <style type=\"text/css\">*{stroke-linejoin: round; stroke-linecap: butt}</style>\n </defs>\n <g id=\"figure_1\">\n  <g id=\"patch_1\">\n   <path d=\"M 0 374.635781 \nL 598.4875 374.635781 \nL 598.4875 0 \nL 0 0 \nL 0 374.635781 \nz\n\" style=\"fill: none\"/>\n  </g>\n  <g id=\"axes_1\">\n   <g id=\"patch_2\">\n    <path d=\"M 33.2875 350.757656 \nL 591.2875 350.757656 \nL 591.2875 24.597656 \nL 33.2875 24.597656 \nz\n\" style=\"fill: #ffffff\"/>\n   </g>\n   <g id=\"patch_3\">\n    <path d=\"M 58.651136 350.757656 \nL 63.723864 350.757656 \nL 63.723864 279.512571 \nL 58.651136 279.512571 \nz\n\" clip-path=\"url(#p5507ae2acf)\" style=\"fill: #1f77b4\"/>\n   </g>\n   <g id=\"patch_4\">\n    <path d=\"M 63.723864 350.757656 \nL 68.796591 350.757656 \nL 68.796591 232.490815 \nL 63.723864 232.490815 \nz\n\" clip-path=\"url(#p5507ae2acf)\" style=\"fill: #1f77b4\"/>\n   </g>\n   <g id=\"patch_5\">\n    <path d=\"M 68.796591 350.757656 \nL 73.869318 350.757656 \nL 73.869318 218.241798 \nL 68.796591 218.241798 \nz\n\" clip-path=\"url(#p5507ae2acf)\" style=\"fill: #1f77b4\"/>\n   </g>\n   <g id=\"patch_6\">\n    <path d=\"M 73.869318 350.757656 \nL 78.942045 350.757656 \nL 78.942045 169.79514 \nL 73.869318 169.79514 \nz\n\" clip-path=\"url(#p5507ae2acf)\" style=\"fill: #1f77b4\"/>\n   </g>\n   <g id=\"patch_7\">\n    <path d=\"M 78.942045 350.757656 \nL 84.014773 350.757656 \nL 84.014773 128.47299 \nL 78.942045 128.47299 \nz\n\" clip-path=\"url(#p5507ae2acf)\" style=\"fill: #1f77b4\"/>\n   </g>\n   <g id=\"patch_8\">\n    <path d=\"M 84.014773 350.757656 \nL 89.0875 350.757656 \nL 89.0875 78.601431 \nL 84.014773 78.601431 \nz\n\" clip-path=\"url(#p5507ae2acf)\" style=\"fill: #1f77b4\"/>\n   </g>\n   <g id=\"patch_9\">\n    <path d=\"M 89.0875 350.757656 \nL 94.160227 350.757656 \nL 94.160227 95.700251 \nL 89.0875 95.700251 \nz\n\" clip-path=\"url(#p5507ae2acf)\" style=\"fill: #1f77b4\"/>\n   </g>\n   <g id=\"patch_10\">\n    <path d=\"M 94.160227 350.757656 \nL 99.232955 350.757656 \nL 99.232955 44.40379 \nL 94.160227 44.40379 \nz\n\" clip-path=\"url(#p5507ae2acf)\" style=\"fill: #1f77b4\"/>\n   </g>\n   <g id=\"patch_11\">\n    <path d=\"M 99.232955 350.757656 \nL 104.305682 350.757656 \nL 104.305682 48.678495 \nL 99.232955 48.678495 \nz\n\" clip-path=\"url(#p5507ae2acf)\" style=\"fill: #1f77b4\"/>\n   </g>\n   <g id=\"patch_12\">\n    <path d=\"M 104.305682 350.757656 \nL 109.378409 350.757656 \nL 109.378409 75.751627 \nL 104.305682 75.751627 \nz\n\" clip-path=\"url(#p5507ae2acf)\" style=\"fill: #1f77b4\"/>\n   </g>\n   <g id=\"patch_13\">\n    <path d=\"M 109.378409 350.757656 \nL 114.451136 350.757656 \nL 114.451136 80.026333 \nL 109.378409 80.026333 \nz\n\" clip-path=\"url(#p5507ae2acf)\" style=\"fill: #1f77b4\"/>\n   </g>\n   <g id=\"patch_14\">\n    <path d=\"M 114.451136 350.757656 \nL 119.523864 350.757656 \nL 119.523864 68.627119 \nL 114.451136 68.627119 \nz\n\" clip-path=\"url(#p5507ae2acf)\" style=\"fill: #1f77b4\"/>\n   </g>\n   <g id=\"patch_15\">\n    <path d=\"M 119.523864 350.757656 \nL 124.596591 350.757656 \nL 124.596591 40.129085 \nL 119.523864 40.129085 \nz\n\" clip-path=\"url(#p5507ae2acf)\" style=\"fill: #1f77b4\"/>\n   </g>\n   <g id=\"patch_16\">\n    <path d=\"M 124.596591 350.757656 \nL 129.669318 350.757656 \nL 129.669318 57.227905 \nL 124.596591 57.227905 \nz\n\" clip-path=\"url(#p5507ae2acf)\" style=\"fill: #1f77b4\"/>\n   </g>\n   <g id=\"patch_17\">\n    <path d=\"M 129.669318 350.757656 \nL 134.742045 350.757656 \nL 134.742045 61.50261 \nL 129.669318 61.50261 \nz\n\" clip-path=\"url(#p5507ae2acf)\" style=\"fill: #1f77b4\"/>\n   </g>\n   <g id=\"patch_18\">\n    <path d=\"M 134.742045 350.757656 \nL 139.814773 350.757656 \nL 139.814773 77.176529 \nL 134.742045 77.176529 \nz\n\" clip-path=\"url(#p5507ae2acf)\" style=\"fill: #1f77b4\"/>\n   </g>\n   <g id=\"patch_19\">\n    <path d=\"M 139.814773 350.757656 \nL 144.8875 350.757656 \nL 144.8875 115.648875 \nL 139.814773 115.648875 \nz\n\" clip-path=\"url(#p5507ae2acf)\" style=\"fill: #1f77b4\"/>\n   </g>\n   <g id=\"patch_20\">\n    <path d=\"M 144.8875 350.757656 \nL 149.960227 350.757656 \nL 149.960227 114.223973 \nL 144.8875 114.223973 \nz\n\" clip-path=\"url(#p5507ae2acf)\" style=\"fill: #1f77b4\"/>\n   </g>\n   <g id=\"patch_21\">\n    <path d=\"M 149.960227 350.757656 \nL 155.032955 350.757656 \nL 155.032955 84.301038 \nL 149.960227 84.301038 \nz\n\" clip-path=\"url(#p5507ae2acf)\" style=\"fill: #1f77b4\"/>\n   </g>\n   <g id=\"patch_22\">\n    <path d=\"M 155.032955 350.757656 \nL 160.105682 350.757656 \nL 160.105682 117.073777 \nL 155.032955 117.073777 \nz\n\" clip-path=\"url(#p5507ae2acf)\" style=\"fill: #1f77b4\"/>\n   </g>\n   <g id=\"patch_23\">\n    <path d=\"M 160.105682 350.757656 \nL 165.178409 350.757656 \nL 165.178409 164.095533 \nL 160.105682 164.095533 \nz\n\" clip-path=\"url(#p5507ae2acf)\" style=\"fill: #1f77b4\"/>\n   </g>\n   <g id=\"patch_24\">\n    <path d=\"M 165.178409 350.757656 \nL 170.251136 350.757656 \nL 170.251136 149.846516 \nL 165.178409 149.846516 \nz\n\" clip-path=\"url(#p5507ae2acf)\" style=\"fill: #1f77b4\"/>\n   </g>\n   <g id=\"patch_25\">\n    <path d=\"M 170.251136 350.757656 \nL 175.323864 350.757656 \nL 175.323864 199.718076 \nL 170.251136 199.718076 \nz\n\" clip-path=\"url(#p5507ae2acf)\" style=\"fill: #1f77b4\"/>\n   </g>\n   <g id=\"patch_26\">\n    <path d=\"M 175.323864 350.757656 \nL 180.396591 350.757656 \nL 180.396591 184.044157 \nL 175.323864 184.044157 \nz\n\" clip-path=\"url(#p5507ae2acf)\" style=\"fill: #1f77b4\"/>\n   </g>\n   <g id=\"patch_27\">\n    <path d=\"M 180.396591 350.757656 \nL 185.469318 350.757656 \nL 185.469318 218.241798 \nL 180.396591 218.241798 \nz\n\" clip-path=\"url(#p5507ae2acf)\" style=\"fill: #1f77b4\"/>\n   </g>\n   <g id=\"patch_28\">\n    <path d=\"M 185.469318 350.757656 \nL 190.542045 350.757656 \nL 190.542045 221.091601 \nL 185.469318 221.091601 \nz\n\" clip-path=\"url(#p5507ae2acf)\" style=\"fill: #1f77b4\"/>\n   </g>\n   <g id=\"patch_29\">\n    <path d=\"M 190.542045 350.757656 \nL 195.614773 350.757656 \nL 195.614773 236.76552 \nL 190.542045 236.76552 \nz\n\" clip-path=\"url(#p5507ae2acf)\" style=\"fill: #1f77b4\"/>\n   </g>\n   <g id=\"patch_30\">\n    <path d=\"M 195.614773 350.757656 \nL 200.6875 350.757656 \nL 200.6875 236.76552 \nL 195.614773 236.76552 \nz\n\" clip-path=\"url(#p5507ae2acf)\" style=\"fill: #1f77b4\"/>\n   </g>\n   <g id=\"patch_31\">\n    <path d=\"M 200.6875 350.757656 \nL 205.760227 350.757656 \nL 205.760227 252.439439 \nL 200.6875 252.439439 \nz\n\" clip-path=\"url(#p5507ae2acf)\" style=\"fill: #1f77b4\"/>\n   </g>\n   <g id=\"patch_32\">\n    <path d=\"M 205.760227 350.757656 \nL 210.832955 350.757656 \nL 210.832955 268.113357 \nL 205.760227 268.113357 \nz\n\" clip-path=\"url(#p5507ae2acf)\" style=\"fill: #1f77b4\"/>\n   </g>\n   <g id=\"patch_33\">\n    <path d=\"M 210.832955 350.757656 \nL 215.905682 350.757656 \nL 215.905682 276.662768 \nL 210.832955 276.662768 \nz\n\" clip-path=\"url(#p5507ae2acf)\" style=\"fill: #1f77b4\"/>\n   </g>\n   <g id=\"patch_34\">\n    <path d=\"M 215.905682 350.757656 \nL 220.978409 350.757656 \nL 220.978409 288.061981 \nL 215.905682 288.061981 \nz\n\" clip-path=\"url(#p5507ae2acf)\" style=\"fill: #1f77b4\"/>\n   </g>\n   <g id=\"patch_35\">\n    <path d=\"M 220.978409 350.757656 \nL 226.051136 350.757656 \nL 226.051136 302.310998 \nL 220.978409 302.310998 \nz\n\" clip-path=\"url(#p5507ae2acf)\" style=\"fill: #1f77b4\"/>\n   </g>\n   <g id=\"patch_36\">\n    <path d=\"M 226.051136 350.757656 \nL 231.123864 350.757656 \nL 231.123864 312.28531 \nL 226.051136 312.28531 \nz\n\" clip-path=\"url(#p5507ae2acf)\" style=\"fill: #1f77b4\"/>\n   </g>\n   <g id=\"patch_37\">\n    <path d=\"M 231.123864 350.757656 \nL 236.196591 350.757656 \nL 236.196591 312.28531 \nL 231.123864 312.28531 \nz\n\" clip-path=\"url(#p5507ae2acf)\" style=\"fill: #1f77b4\"/>\n   </g>\n   <g id=\"patch_38\">\n    <path d=\"M 236.196591 350.757656 \nL 241.269318 350.757656 \nL 241.269318 313.710212 \nL 236.196591 313.710212 \nz\n\" clip-path=\"url(#p5507ae2acf)\" style=\"fill: #1f77b4\"/>\n   </g>\n   <g id=\"patch_39\">\n    <path d=\"M 241.269318 350.757656 \nL 246.342045 350.757656 \nL 246.342045 332.233934 \nL 241.269318 332.233934 \nz\n\" clip-path=\"url(#p5507ae2acf)\" style=\"fill: #1f77b4\"/>\n   </g>\n   <g id=\"patch_40\">\n    <path d=\"M 246.342045 350.757656 \nL 251.414773 350.757656 \nL 251.414773 317.984917 \nL 246.342045 317.984917 \nz\n\" clip-path=\"url(#p5507ae2acf)\" style=\"fill: #1f77b4\"/>\n   </g>\n   <g id=\"patch_41\">\n    <path d=\"M 251.414773 350.757656 \nL 256.4875 350.757656 \nL 256.4875 319.409819 \nL 251.414773 319.409819 \nz\n\" clip-path=\"url(#p5507ae2acf)\" style=\"fill: #1f77b4\"/>\n   </g>\n   <g id=\"patch_42\">\n    <path d=\"M 256.4875 350.757656 \nL 261.560227 350.757656 \nL 261.560227 337.933541 \nL 256.4875 337.933541 \nz\n\" clip-path=\"url(#p5507ae2acf)\" style=\"fill: #1f77b4\"/>\n   </g>\n   <g id=\"patch_43\">\n    <path d=\"M 261.560227 350.757656 \nL 266.632955 350.757656 \nL 266.632955 337.933541 \nL 261.560227 337.933541 \nz\n\" clip-path=\"url(#p5507ae2acf)\" style=\"fill: #1f77b4\"/>\n   </g>\n   <g id=\"patch_44\">\n    <path d=\"M 266.632955 350.757656 \nL 271.705682 350.757656 \nL 271.705682 333.658836 \nL 266.632955 333.658836 \nz\n\" clip-path=\"url(#p5507ae2acf)\" style=\"fill: #1f77b4\"/>\n   </g>\n   <g id=\"patch_45\">\n    <path d=\"M 271.705682 350.757656 \nL 276.778409 350.757656 \nL 276.778409 330.809032 \nL 271.705682 330.809032 \nz\n\" clip-path=\"url(#p5507ae2acf)\" style=\"fill: #1f77b4\"/>\n   </g>\n   <g id=\"patch_46\">\n    <path d=\"M 276.778409 350.757656 \nL 281.851136 350.757656 \nL 281.851136 332.233934 \nL 276.778409 332.233934 \nz\n\" clip-path=\"url(#p5507ae2acf)\" style=\"fill: #1f77b4\"/>\n   </g>\n   <g id=\"patch_47\">\n    <path d=\"M 281.851136 350.757656 \nL 286.923864 350.757656 \nL 286.923864 340.783344 \nL 281.851136 340.783344 \nz\n\" clip-path=\"url(#p5507ae2acf)\" style=\"fill: #1f77b4\"/>\n   </g>\n   <g id=\"patch_48\">\n    <path d=\"M 286.923864 350.757656 \nL 291.996591 350.757656 \nL 291.996591 342.208246 \nL 286.923864 342.208246 \nz\n\" clip-path=\"url(#p5507ae2acf)\" style=\"fill: #1f77b4\"/>\n   </g>\n   <g id=\"patch_49\">\n    <path d=\"M 291.996591 350.757656 \nL 297.069318 350.757656 \nL 297.069318 346.482951 \nL 291.996591 346.482951 \nz\n\" clip-path=\"url(#p5507ae2acf)\" style=\"fill: #1f77b4\"/>\n   </g>\n   <g id=\"patch_50\">\n    <path d=\"M 297.069318 350.757656 \nL 302.142045 350.757656 \nL 302.142045 337.933541 \nL 297.069318 337.933541 \nz\n\" clip-path=\"url(#p5507ae2acf)\" style=\"fill: #1f77b4\"/>\n   </g>\n   <g id=\"patch_51\">\n    <path d=\"M 302.142045 350.757656 \nL 307.214773 350.757656 \nL 307.214773 343.633148 \nL 302.142045 343.633148 \nz\n\" clip-path=\"url(#p5507ae2acf)\" style=\"fill: #1f77b4\"/>\n   </g>\n   <g id=\"patch_52\">\n    <path d=\"M 307.214773 350.757656 \nL 312.2875 350.757656 \nL 312.2875 340.783344 \nL 307.214773 340.783344 \nz\n\" clip-path=\"url(#p5507ae2acf)\" style=\"fill: #1f77b4\"/>\n   </g>\n   <g id=\"patch_53\">\n    <path d=\"M 312.2875 350.757656 \nL 317.360227 350.757656 \nL 317.360227 342.208246 \nL 312.2875 342.208246 \nz\n\" clip-path=\"url(#p5507ae2acf)\" style=\"fill: #1f77b4\"/>\n   </g>\n   <g id=\"patch_54\">\n    <path d=\"M 317.360227 350.757656 \nL 322.432955 350.757656 \nL 322.432955 337.933541 \nL 317.360227 337.933541 \nz\n\" clip-path=\"url(#p5507ae2acf)\" style=\"fill: #1f77b4\"/>\n   </g>\n   <g id=\"patch_55\">\n    <path d=\"M 322.432955 350.757656 \nL 327.505682 350.757656 \nL 327.505682 342.208246 \nL 322.432955 342.208246 \nz\n\" clip-path=\"url(#p5507ae2acf)\" style=\"fill: #1f77b4\"/>\n   </g>\n   <g id=\"patch_56\">\n    <path d=\"M 327.505682 350.757656 \nL 332.578409 350.757656 \nL 332.578409 336.508639 \nL 327.505682 336.508639 \nz\n\" clip-path=\"url(#p5507ae2acf)\" style=\"fill: #1f77b4\"/>\n   </g>\n   <g id=\"patch_57\">\n    <path d=\"M 332.578409 350.757656 \nL 337.651136 350.757656 \nL 337.651136 346.482951 \nL 332.578409 346.482951 \nz\n\" clip-path=\"url(#p5507ae2acf)\" style=\"fill: #1f77b4\"/>\n   </g>\n   <g id=\"patch_58\">\n    <path d=\"M 337.651136 350.757656 \nL 342.723864 350.757656 \nL 342.723864 346.482951 \nL 337.651136 346.482951 \nz\n\" clip-path=\"url(#p5507ae2acf)\" style=\"fill: #1f77b4\"/>\n   </g>\n   <g id=\"patch_59\">\n    <path d=\"M 342.723864 350.757656 \nL 347.796591 350.757656 \nL 347.796591 342.208246 \nL 342.723864 342.208246 \nz\n\" clip-path=\"url(#p5507ae2acf)\" style=\"fill: #1f77b4\"/>\n   </g>\n   <g id=\"patch_60\">\n    <path d=\"M 347.796591 350.757656 \nL 352.869318 350.757656 \nL 352.869318 343.633148 \nL 347.796591 343.633148 \nz\n\" clip-path=\"url(#p5507ae2acf)\" style=\"fill: #1f77b4\"/>\n   </g>\n   <g id=\"patch_61\">\n    <path d=\"M 352.869318 350.757656 \nL 357.942045 350.757656 \nL 357.942045 342.208246 \nL 352.869318 342.208246 \nz\n\" clip-path=\"url(#p5507ae2acf)\" style=\"fill: #1f77b4\"/>\n   </g>\n   <g id=\"patch_62\">\n    <path d=\"M 357.942045 350.757656 \nL 363.014773 350.757656 \nL 363.014773 345.058049 \nL 357.942045 345.058049 \nz\n\" clip-path=\"url(#p5507ae2acf)\" style=\"fill: #1f77b4\"/>\n   </g>\n   <g id=\"patch_63\">\n    <path d=\"M 363.014773 350.757656 \nL 368.0875 350.757656 \nL 368.0875 346.482951 \nL 363.014773 346.482951 \nz\n\" clip-path=\"url(#p5507ae2acf)\" style=\"fill: #1f77b4\"/>\n   </g>\n   <g id=\"patch_64\">\n    <path d=\"M 368.0875 350.757656 \nL 373.160227 350.757656 \nL 373.160227 347.907853 \nL 368.0875 347.907853 \nz\n\" clip-path=\"url(#p5507ae2acf)\" style=\"fill: #1f77b4\"/>\n   </g>\n   <g id=\"patch_65\">\n    <path d=\"M 373.160227 350.757656 \nL 378.232955 350.757656 \nL 378.232955 345.058049 \nL 373.160227 345.058049 \nz\n\" clip-path=\"url(#p5507ae2acf)\" style=\"fill: #1f77b4\"/>\n   </g>\n   <g id=\"patch_66\">\n    <path d=\"M 378.232955 350.757656 \nL 383.305682 350.757656 \nL 383.305682 347.907853 \nL 378.232955 347.907853 \nz\n\" clip-path=\"url(#p5507ae2acf)\" style=\"fill: #1f77b4\"/>\n   </g>\n   <g id=\"patch_67\">\n    <path d=\"M 383.305682 350.757656 \nL 388.378409 350.757656 \nL 388.378409 347.907853 \nL 383.305682 347.907853 \nz\n\" clip-path=\"url(#p5507ae2acf)\" style=\"fill: #1f77b4\"/>\n   </g>\n   <g id=\"patch_68\">\n    <path d=\"M 388.378409 350.757656 \nL 393.451136 350.757656 \nL 393.451136 349.332755 \nL 388.378409 349.332755 \nz\n\" clip-path=\"url(#p5507ae2acf)\" style=\"fill: #1f77b4\"/>\n   </g>\n   <g id=\"patch_69\">\n    <path d=\"M 393.451136 350.757656 \nL 398.523864 350.757656 \nL 398.523864 347.907853 \nL 393.451136 347.907853 \nz\n\" clip-path=\"url(#p5507ae2acf)\" style=\"fill: #1f77b4\"/>\n   </g>\n   <g id=\"patch_70\">\n    <path d=\"M 398.523864 350.757656 \nL 403.596591 350.757656 \nL 403.596591 350.757656 \nL 398.523864 350.757656 \nz\n\" clip-path=\"url(#p5507ae2acf)\" style=\"fill: #1f77b4\"/>\n   </g>\n   <g id=\"patch_71\">\n    <path d=\"M 403.596591 350.757656 \nL 408.669318 350.757656 \nL 408.669318 347.907853 \nL 403.596591 347.907853 \nz\n\" clip-path=\"url(#p5507ae2acf)\" style=\"fill: #1f77b4\"/>\n   </g>\n   <g id=\"patch_72\">\n    <path d=\"M 408.669318 350.757656 \nL 413.742045 350.757656 \nL 413.742045 347.907853 \nL 408.669318 347.907853 \nz\n\" clip-path=\"url(#p5507ae2acf)\" style=\"fill: #1f77b4\"/>\n   </g>\n   <g id=\"patch_73\">\n    <path d=\"M 413.742045 350.757656 \nL 418.814773 350.757656 \nL 418.814773 350.757656 \nL 413.742045 350.757656 \nz\n\" clip-path=\"url(#p5507ae2acf)\" style=\"fill: #1f77b4\"/>\n   </g>\n   <g id=\"patch_74\">\n    <path d=\"M 418.814773 350.757656 \nL 423.8875 350.757656 \nL 423.8875 349.332755 \nL 418.814773 349.332755 \nz\n\" clip-path=\"url(#p5507ae2acf)\" style=\"fill: #1f77b4\"/>\n   </g>\n   <g id=\"patch_75\">\n    <path d=\"M 423.8875 350.757656 \nL 428.960227 350.757656 \nL 428.960227 346.482951 \nL 423.8875 346.482951 \nz\n\" clip-path=\"url(#p5507ae2acf)\" style=\"fill: #1f77b4\"/>\n   </g>\n   <g id=\"patch_76\">\n    <path d=\"M 428.960227 350.757656 \nL 434.032955 350.757656 \nL 434.032955 350.757656 \nL 428.960227 350.757656 \nz\n\" clip-path=\"url(#p5507ae2acf)\" style=\"fill: #1f77b4\"/>\n   </g>\n   <g id=\"patch_77\">\n    <path d=\"M 434.032955 350.757656 \nL 439.105682 350.757656 \nL 439.105682 349.332755 \nL 434.032955 349.332755 \nz\n\" clip-path=\"url(#p5507ae2acf)\" style=\"fill: #1f77b4\"/>\n   </g>\n   <g id=\"patch_78\">\n    <path d=\"M 439.105682 350.757656 \nL 444.178409 350.757656 \nL 444.178409 346.482951 \nL 439.105682 346.482951 \nz\n\" clip-path=\"url(#p5507ae2acf)\" style=\"fill: #1f77b4\"/>\n   </g>\n   <g id=\"patch_79\">\n    <path d=\"M 444.178409 350.757656 \nL 449.251136 350.757656 \nL 449.251136 349.332755 \nL 444.178409 349.332755 \nz\n\" clip-path=\"url(#p5507ae2acf)\" style=\"fill: #1f77b4\"/>\n   </g>\n   <g id=\"patch_80\">\n    <path d=\"M 449.251136 350.757656 \nL 454.323864 350.757656 \nL 454.323864 345.058049 \nL 449.251136 345.058049 \nz\n\" clip-path=\"url(#p5507ae2acf)\" style=\"fill: #1f77b4\"/>\n   </g>\n   <g id=\"patch_81\">\n    <path d=\"M 454.323864 350.757656 \nL 459.396591 350.757656 \nL 459.396591 349.332755 \nL 454.323864 349.332755 \nz\n\" clip-path=\"url(#p5507ae2acf)\" style=\"fill: #1f77b4\"/>\n   </g>\n   <g id=\"patch_82\">\n    <path d=\"M 459.396591 350.757656 \nL 464.469318 350.757656 \nL 464.469318 343.633148 \nL 459.396591 343.633148 \nz\n\" clip-path=\"url(#p5507ae2acf)\" style=\"fill: #1f77b4\"/>\n   </g>\n   <g id=\"patch_83\">\n    <path d=\"M 464.469318 350.757656 \nL 469.542045 350.757656 \nL 469.542045 349.332755 \nL 464.469318 349.332755 \nz\n\" clip-path=\"url(#p5507ae2acf)\" style=\"fill: #1f77b4\"/>\n   </g>\n   <g id=\"patch_84\">\n    <path d=\"M 469.542045 350.757656 \nL 474.614773 350.757656 \nL 474.614773 347.907853 \nL 469.542045 347.907853 \nz\n\" clip-path=\"url(#p5507ae2acf)\" style=\"fill: #1f77b4\"/>\n   </g>\n   <g id=\"patch_85\">\n    <path d=\"M 474.614773 350.757656 \nL 479.6875 350.757656 \nL 479.6875 349.332755 \nL 474.614773 349.332755 \nz\n\" clip-path=\"url(#p5507ae2acf)\" style=\"fill: #1f77b4\"/>\n   </g>\n   <g id=\"patch_86\">\n    <path d=\"M 479.6875 350.757656 \nL 484.760227 350.757656 \nL 484.760227 350.757656 \nL 479.6875 350.757656 \nz\n\" clip-path=\"url(#p5507ae2acf)\" style=\"fill: #1f77b4\"/>\n   </g>\n   <g id=\"patch_87\">\n    <path d=\"M 484.760227 350.757656 \nL 489.832955 350.757656 \nL 489.832955 349.332755 \nL 484.760227 349.332755 \nz\n\" clip-path=\"url(#p5507ae2acf)\" style=\"fill: #1f77b4\"/>\n   </g>\n   <g id=\"patch_88\">\n    <path d=\"M 489.832955 350.757656 \nL 494.905682 350.757656 \nL 494.905682 350.757656 \nL 489.832955 350.757656 \nz\n\" clip-path=\"url(#p5507ae2acf)\" style=\"fill: #1f77b4\"/>\n   </g>\n   <g id=\"patch_89\">\n    <path d=\"M 494.905682 350.757656 \nL 499.978409 350.757656 \nL 499.978409 349.332755 \nL 494.905682 349.332755 \nz\n\" clip-path=\"url(#p5507ae2acf)\" style=\"fill: #1f77b4\"/>\n   </g>\n   <g id=\"patch_90\">\n    <path d=\"M 499.978409 350.757656 \nL 505.051136 350.757656 \nL 505.051136 350.757656 \nL 499.978409 350.757656 \nz\n\" clip-path=\"url(#p5507ae2acf)\" style=\"fill: #1f77b4\"/>\n   </g>\n   <g id=\"patch_91\">\n    <path d=\"M 505.051136 350.757656 \nL 510.123864 350.757656 \nL 510.123864 350.757656 \nL 505.051136 350.757656 \nz\n\" clip-path=\"url(#p5507ae2acf)\" style=\"fill: #1f77b4\"/>\n   </g>\n   <g id=\"patch_92\">\n    <path d=\"M 510.123864 350.757656 \nL 515.196591 350.757656 \nL 515.196591 347.907853 \nL 510.123864 347.907853 \nz\n\" clip-path=\"url(#p5507ae2acf)\" style=\"fill: #1f77b4\"/>\n   </g>\n   <g id=\"patch_93\">\n    <path d=\"M 515.196591 350.757656 \nL 520.269318 350.757656 \nL 520.269318 349.332755 \nL 515.196591 349.332755 \nz\n\" clip-path=\"url(#p5507ae2acf)\" style=\"fill: #1f77b4\"/>\n   </g>\n   <g id=\"patch_94\">\n    <path d=\"M 520.269318 350.757656 \nL 525.342045 350.757656 \nL 525.342045 350.757656 \nL 520.269318 350.757656 \nz\n\" clip-path=\"url(#p5507ae2acf)\" style=\"fill: #1f77b4\"/>\n   </g>\n   <g id=\"patch_95\">\n    <path d=\"M 525.342045 350.757656 \nL 530.414773 350.757656 \nL 530.414773 349.332755 \nL 525.342045 349.332755 \nz\n\" clip-path=\"url(#p5507ae2acf)\" style=\"fill: #1f77b4\"/>\n   </g>\n   <g id=\"patch_96\">\n    <path d=\"M 530.414773 350.757656 \nL 535.4875 350.757656 \nL 535.4875 349.332755 \nL 530.414773 349.332755 \nz\n\" clip-path=\"url(#p5507ae2acf)\" style=\"fill: #1f77b4\"/>\n   </g>\n   <g id=\"patch_97\">\n    <path d=\"M 535.4875 350.757656 \nL 540.560227 350.757656 \nL 540.560227 350.757656 \nL 535.4875 350.757656 \nz\n\" clip-path=\"url(#p5507ae2acf)\" style=\"fill: #1f77b4\"/>\n   </g>\n   <g id=\"patch_98\">\n    <path d=\"M 540.560227 350.757656 \nL 545.632955 350.757656 \nL 545.632955 350.757656 \nL 540.560227 350.757656 \nz\n\" clip-path=\"url(#p5507ae2acf)\" style=\"fill: #1f77b4\"/>\n   </g>\n   <g id=\"patch_99\">\n    <path d=\"M 545.632955 350.757656 \nL 550.705682 350.757656 \nL 550.705682 349.332755 \nL 545.632955 349.332755 \nz\n\" clip-path=\"url(#p5507ae2acf)\" style=\"fill: #1f77b4\"/>\n   </g>\n   <g id=\"patch_100\">\n    <path d=\"M 550.705682 350.757656 \nL 555.778409 350.757656 \nL 555.778409 349.332755 \nL 550.705682 349.332755 \nz\n\" clip-path=\"url(#p5507ae2acf)\" style=\"fill: #1f77b4\"/>\n   </g>\n   <g id=\"patch_101\">\n    <path d=\"M 555.778409 350.757656 \nL 560.851136 350.757656 \nL 560.851136 350.757656 \nL 555.778409 350.757656 \nz\n\" clip-path=\"url(#p5507ae2acf)\" style=\"fill: #1f77b4\"/>\n   </g>\n   <g id=\"patch_102\">\n    <path d=\"M 560.851136 350.757656 \nL 565.923864 350.757656 \nL 565.923864 349.332755 \nL 560.851136 349.332755 \nz\n\" clip-path=\"url(#p5507ae2acf)\" style=\"fill: #1f77b4\"/>\n   </g>\n   <g id=\"matplotlib.axis_1\">\n    <g id=\"xtick_1\">\n     <g id=\"line2d_1\">\n      <defs>\n       <path id=\"m4205e1c1ba\" d=\"M 0 0 \nL 0 3.5 \n\" style=\"stroke: #000000; stroke-width: 0.8\"/>\n      </defs>\n      <g>\n       <use xlink:href=\"#m4205e1c1ba\" x=\"33.992045\" y=\"350.757656\" style=\"stroke: #000000; stroke-width: 0.8\"/>\n      </g>\n     </g>\n     <g id=\"text_1\">\n      <!-- 0 -->\n      <g transform=\"translate(30.810795 365.356094)scale(0.1 -0.1)\">\n       <defs>\n        <path id=\"DejaVuSans-30\" d=\"M 2034 4250 \nQ 1547 4250 1301 3770 \nQ 1056 3291 1056 2328 \nQ 1056 1369 1301 889 \nQ 1547 409 2034 409 \nQ 2525 409 2770 889 \nQ 3016 1369 3016 2328 \nQ 3016 3291 2770 3770 \nQ 2525 4250 2034 4250 \nz\nM 2034 4750 \nQ 2819 4750 3233 4129 \nQ 3647 3509 3647 2328 \nQ 3647 1150 3233 529 \nQ 2819 -91 2034 -91 \nQ 1250 -91 836 529 \nQ 422 1150 422 2328 \nQ 422 3509 836 4129 \nQ 1250 4750 2034 4750 \nz\n\" transform=\"scale(0.015625)\"/>\n       </defs>\n       <use xlink:href=\"#DejaVuSans-30\"/>\n      </g>\n     </g>\n    </g>\n    <g id=\"xtick_2\">\n     <g id=\"line2d_2\">\n      <g>\n       <use xlink:href=\"#m4205e1c1ba\" x=\"157.164328\" y=\"350.757656\" style=\"stroke: #000000; stroke-width: 0.8\"/>\n      </g>\n     </g>\n     <g id=\"text_2\">\n      <!-- 5000 -->\n      <g transform=\"translate(144.439328 365.356094)scale(0.1 -0.1)\">\n       <defs>\n        <path id=\"DejaVuSans-35\" d=\"M 691 4666 \nL 3169 4666 \nL 3169 4134 \nL 1269 4134 \nL 1269 2991 \nQ 1406 3038 1543 3061 \nQ 1681 3084 1819 3084 \nQ 2600 3084 3056 2656 \nQ 3513 2228 3513 1497 \nQ 3513 744 3044 326 \nQ 2575 -91 1722 -91 \nQ 1428 -91 1123 -41 \nQ 819 9 494 109 \nL 494 744 \nQ 775 591 1075 516 \nQ 1375 441 1709 441 \nQ 2250 441 2565 725 \nQ 2881 1009 2881 1497 \nQ 2881 1984 2565 2268 \nQ 2250 2553 1709 2553 \nQ 1456 2553 1204 2497 \nQ 953 2441 691 2322 \nL 691 4666 \nz\n\" transform=\"scale(0.015625)\"/>\n       </defs>\n       <use xlink:href=\"#DejaVuSans-35\"/>\n       <use xlink:href=\"#DejaVuSans-30\" x=\"63.623047\"/>\n       <use xlink:href=\"#DejaVuSans-30\" x=\"127.246094\"/>\n       <use xlink:href=\"#DejaVuSans-30\" x=\"190.869141\"/>\n      </g>\n     </g>\n    </g>\n    <g id=\"xtick_3\">\n     <g id=\"line2d_3\">\n      <g>\n       <use xlink:href=\"#m4205e1c1ba\" x=\"280.33661\" y=\"350.757656\" style=\"stroke: #000000; stroke-width: 0.8\"/>\n      </g>\n     </g>\n     <g id=\"text_3\">\n      <!-- 10000 -->\n      <g transform=\"translate(264.43036 365.356094)scale(0.1 -0.1)\">\n       <defs>\n        <path id=\"DejaVuSans-31\" d=\"M 794 531 \nL 1825 531 \nL 1825 4091 \nL 703 3866 \nL 703 4441 \nL 1819 4666 \nL 2450 4666 \nL 2450 531 \nL 3481 531 \nL 3481 0 \nL 794 0 \nL 794 531 \nz\n\" transform=\"scale(0.015625)\"/>\n       </defs>\n       <use xlink:href=\"#DejaVuSans-31\"/>\n       <use xlink:href=\"#DejaVuSans-30\" x=\"63.623047\"/>\n       <use xlink:href=\"#DejaVuSans-30\" x=\"127.246094\"/>\n       <use xlink:href=\"#DejaVuSans-30\" x=\"190.869141\"/>\n       <use xlink:href=\"#DejaVuSans-30\" x=\"254.492188\"/>\n      </g>\n     </g>\n    </g>\n    <g id=\"xtick_4\">\n     <g id=\"line2d_4\">\n      <g>\n       <use xlink:href=\"#m4205e1c1ba\" x=\"403.508892\" y=\"350.757656\" style=\"stroke: #000000; stroke-width: 0.8\"/>\n      </g>\n     </g>\n     <g id=\"text_4\">\n      <!-- 15000 -->\n      <g transform=\"translate(387.602642 365.356094)scale(0.1 -0.1)\">\n       <use xlink:href=\"#DejaVuSans-31\"/>\n       <use xlink:href=\"#DejaVuSans-35\" x=\"63.623047\"/>\n       <use xlink:href=\"#DejaVuSans-30\" x=\"127.246094\"/>\n       <use xlink:href=\"#DejaVuSans-30\" x=\"190.869141\"/>\n       <use xlink:href=\"#DejaVuSans-30\" x=\"254.492188\"/>\n      </g>\n     </g>\n    </g>\n    <g id=\"xtick_5\">\n     <g id=\"line2d_5\">\n      <g>\n       <use xlink:href=\"#m4205e1c1ba\" x=\"526.681175\" y=\"350.757656\" style=\"stroke: #000000; stroke-width: 0.8\"/>\n      </g>\n     </g>\n     <g id=\"text_5\">\n      <!-- 20000 -->\n      <g transform=\"translate(510.774925 365.356094)scale(0.1 -0.1)\">\n       <defs>\n        <path id=\"DejaVuSans-32\" d=\"M 1228 531 \nL 3431 531 \nL 3431 0 \nL 469 0 \nL 469 531 \nQ 828 903 1448 1529 \nQ 2069 2156 2228 2338 \nQ 2531 2678 2651 2914 \nQ 2772 3150 2772 3378 \nQ 2772 3750 2511 3984 \nQ 2250 4219 1831 4219 \nQ 1534 4219 1204 4116 \nQ 875 4013 500 3803 \nL 500 4441 \nQ 881 4594 1212 4672 \nQ 1544 4750 1819 4750 \nQ 2544 4750 2975 4387 \nQ 3406 4025 3406 3419 \nQ 3406 3131 3298 2873 \nQ 3191 2616 2906 2266 \nQ 2828 2175 2409 1742 \nQ 1991 1309 1228 531 \nz\n\" transform=\"scale(0.015625)\"/>\n       </defs>\n       <use xlink:href=\"#DejaVuSans-32\"/>\n       <use xlink:href=\"#DejaVuSans-30\" x=\"63.623047\"/>\n       <use xlink:href=\"#DejaVuSans-30\" x=\"127.246094\"/>\n       <use xlink:href=\"#DejaVuSans-30\" x=\"190.869141\"/>\n       <use xlink:href=\"#DejaVuSans-30\" x=\"254.492188\"/>\n      </g>\n     </g>\n    </g>\n   </g>\n   <g id=\"matplotlib.axis_2\">\n    <g id=\"ytick_1\">\n     <g id=\"line2d_6\">\n      <defs>\n       <path id=\"m05676441c1\" d=\"M 0 0 \nL -3.5 0 \n\" style=\"stroke: #000000; stroke-width: 0.8\"/>\n      </defs>\n      <g>\n       <use xlink:href=\"#m05676441c1\" x=\"33.2875\" y=\"350.757656\" style=\"stroke: #000000; stroke-width: 0.8\"/>\n      </g>\n     </g>\n     <g id=\"text_6\">\n      <!-- 0 -->\n      <g transform=\"translate(19.925 354.556875)scale(0.1 -0.1)\">\n       <use xlink:href=\"#DejaVuSans-30\"/>\n      </g>\n     </g>\n    </g>\n    <g id=\"ytick_2\">\n     <g id=\"line2d_7\">\n      <g>\n       <use xlink:href=\"#m05676441c1\" x=\"33.2875\" y=\"279.512571\" style=\"stroke: #000000; stroke-width: 0.8\"/>\n      </g>\n     </g>\n     <g id=\"text_7\">\n      <!-- 50 -->\n      <g transform=\"translate(13.5625 283.31179)scale(0.1 -0.1)\">\n       <use xlink:href=\"#DejaVuSans-35\"/>\n       <use xlink:href=\"#DejaVuSans-30\" x=\"63.623047\"/>\n      </g>\n     </g>\n    </g>\n    <g id=\"ytick_3\">\n     <g id=\"line2d_8\">\n      <g>\n       <use xlink:href=\"#m05676441c1\" x=\"33.2875\" y=\"208.267486\" style=\"stroke: #000000; stroke-width: 0.8\"/>\n      </g>\n     </g>\n     <g id=\"text_8\">\n      <!-- 100 -->\n      <g transform=\"translate(7.2 212.066705)scale(0.1 -0.1)\">\n       <use xlink:href=\"#DejaVuSans-31\"/>\n       <use xlink:href=\"#DejaVuSans-30\" x=\"63.623047\"/>\n       <use xlink:href=\"#DejaVuSans-30\" x=\"127.246094\"/>\n      </g>\n     </g>\n    </g>\n    <g id=\"ytick_4\">\n     <g id=\"line2d_9\">\n      <g>\n       <use xlink:href=\"#m05676441c1\" x=\"33.2875\" y=\"137.022401\" style=\"stroke: #000000; stroke-width: 0.8\"/>\n      </g>\n     </g>\n     <g id=\"text_9\">\n      <!-- 150 -->\n      <g transform=\"translate(7.2 140.821619)scale(0.1 -0.1)\">\n       <use xlink:href=\"#DejaVuSans-31\"/>\n       <use xlink:href=\"#DejaVuSans-35\" x=\"63.623047\"/>\n       <use xlink:href=\"#DejaVuSans-30\" x=\"127.246094\"/>\n      </g>\n     </g>\n    </g>\n    <g id=\"ytick_5\">\n     <g id=\"line2d_10\">\n      <g>\n       <use xlink:href=\"#m05676441c1\" x=\"33.2875\" y=\"65.777315\" style=\"stroke: #000000; stroke-width: 0.8\"/>\n      </g>\n     </g>\n     <g id=\"text_10\">\n      <!-- 200 -->\n      <g transform=\"translate(7.2 69.576534)scale(0.1 -0.1)\">\n       <use xlink:href=\"#DejaVuSans-32\"/>\n       <use xlink:href=\"#DejaVuSans-30\" x=\"63.623047\"/>\n       <use xlink:href=\"#DejaVuSans-30\" x=\"127.246094\"/>\n      </g>\n     </g>\n    </g>\n   </g>\n   <g id=\"patch_103\">\n    <path d=\"M 33.2875 350.757656 \nL 33.2875 24.597656 \n\" style=\"fill: none; stroke: #000000; stroke-width: 0.8; stroke-linejoin: miter; stroke-linecap: square\"/>\n   </g>\n   <g id=\"patch_104\">\n    <path d=\"M 591.2875 350.757656 \nL 591.2875 24.597656 \n\" style=\"fill: none; stroke: #000000; stroke-width: 0.8; stroke-linejoin: miter; stroke-linecap: square\"/>\n   </g>\n   <g id=\"patch_105\">\n    <path d=\"M 33.2875 350.757656 \nL 591.2875 350.757656 \n\" style=\"fill: none; stroke: #000000; stroke-width: 0.8; stroke-linejoin: miter; stroke-linecap: square\"/>\n   </g>\n   <g id=\"patch_106\">\n    <path d=\"M 33.2875 24.597656 \nL 591.2875 24.597656 \n\" style=\"fill: none; stroke: #000000; stroke-width: 0.8; stroke-linejoin: miter; stroke-linecap: square\"/>\n   </g>\n   <g id=\"text_11\">\n    <!-- Document Length -->\n    <g transform=\"translate(245.178906 18.597656)scale(0.15 -0.15)\">\n     <defs>\n      <path id=\"DejaVuSans-44\" d=\"M 1259 4147 \nL 1259 519 \nL 2022 519 \nQ 2988 519 3436 956 \nQ 3884 1394 3884 2338 \nQ 3884 3275 3436 3711 \nQ 2988 4147 2022 4147 \nL 1259 4147 \nz\nM 628 4666 \nL 1925 4666 \nQ 3281 4666 3915 4102 \nQ 4550 3538 4550 2338 \nQ 4550 1131 3912 565 \nQ 3275 0 1925 0 \nL 628 0 \nL 628 4666 \nz\n\" transform=\"scale(0.015625)\"/>\n      <path id=\"DejaVuSans-6f\" d=\"M 1959 3097 \nQ 1497 3097 1228 2736 \nQ 959 2375 959 1747 \nQ 959 1119 1226 758 \nQ 1494 397 1959 397 \nQ 2419 397 2687 759 \nQ 2956 1122 2956 1747 \nQ 2956 2369 2687 2733 \nQ 2419 3097 1959 3097 \nz\nM 1959 3584 \nQ 2709 3584 3137 3096 \nQ 3566 2609 3566 1747 \nQ 3566 888 3137 398 \nQ 2709 -91 1959 -91 \nQ 1206 -91 779 398 \nQ 353 888 353 1747 \nQ 353 2609 779 3096 \nQ 1206 3584 1959 3584 \nz\n\" transform=\"scale(0.015625)\"/>\n      <path id=\"DejaVuSans-63\" d=\"M 3122 3366 \nL 3122 2828 \nQ 2878 2963 2633 3030 \nQ 2388 3097 2138 3097 \nQ 1578 3097 1268 2742 \nQ 959 2388 959 1747 \nQ 959 1106 1268 751 \nQ 1578 397 2138 397 \nQ 2388 397 2633 464 \nQ 2878 531 3122 666 \nL 3122 134 \nQ 2881 22 2623 -34 \nQ 2366 -91 2075 -91 \nQ 1284 -91 818 406 \nQ 353 903 353 1747 \nQ 353 2603 823 3093 \nQ 1294 3584 2113 3584 \nQ 2378 3584 2631 3529 \nQ 2884 3475 3122 3366 \nz\n\" transform=\"scale(0.015625)\"/>\n      <path id=\"DejaVuSans-75\" d=\"M 544 1381 \nL 544 3500 \nL 1119 3500 \nL 1119 1403 \nQ 1119 906 1312 657 \nQ 1506 409 1894 409 \nQ 2359 409 2629 706 \nQ 2900 1003 2900 1516 \nL 2900 3500 \nL 3475 3500 \nL 3475 0 \nL 2900 0 \nL 2900 538 \nQ 2691 219 2414 64 \nQ 2138 -91 1772 -91 \nQ 1169 -91 856 284 \nQ 544 659 544 1381 \nz\nM 1991 3584 \nL 1991 3584 \nz\n\" transform=\"scale(0.015625)\"/>\n      <path id=\"DejaVuSans-6d\" d=\"M 3328 2828 \nQ 3544 3216 3844 3400 \nQ 4144 3584 4550 3584 \nQ 5097 3584 5394 3201 \nQ 5691 2819 5691 2113 \nL 5691 0 \nL 5113 0 \nL 5113 2094 \nQ 5113 2597 4934 2840 \nQ 4756 3084 4391 3084 \nQ 3944 3084 3684 2787 \nQ 3425 2491 3425 1978 \nL 3425 0 \nL 2847 0 \nL 2847 2094 \nQ 2847 2600 2669 2842 \nQ 2491 3084 2119 3084 \nQ 1678 3084 1418 2786 \nQ 1159 2488 1159 1978 \nL 1159 0 \nL 581 0 \nL 581 3500 \nL 1159 3500 \nL 1159 2956 \nQ 1356 3278 1631 3431 \nQ 1906 3584 2284 3584 \nQ 2666 3584 2933 3390 \nQ 3200 3197 3328 2828 \nz\n\" transform=\"scale(0.015625)\"/>\n      <path id=\"DejaVuSans-65\" d=\"M 3597 1894 \nL 3597 1613 \nL 953 1613 \nQ 991 1019 1311 708 \nQ 1631 397 2203 397 \nQ 2534 397 2845 478 \nQ 3156 559 3463 722 \nL 3463 178 \nQ 3153 47 2828 -22 \nQ 2503 -91 2169 -91 \nQ 1331 -91 842 396 \nQ 353 884 353 1716 \nQ 353 2575 817 3079 \nQ 1281 3584 2069 3584 \nQ 2775 3584 3186 3129 \nQ 3597 2675 3597 1894 \nz\nM 3022 2063 \nQ 3016 2534 2758 2815 \nQ 2500 3097 2075 3097 \nQ 1594 3097 1305 2825 \nQ 1016 2553 972 2059 \nL 3022 2063 \nz\n\" transform=\"scale(0.015625)\"/>\n      <path id=\"DejaVuSans-6e\" d=\"M 3513 2113 \nL 3513 0 \nL 2938 0 \nL 2938 2094 \nQ 2938 2591 2744 2837 \nQ 2550 3084 2163 3084 \nQ 1697 3084 1428 2787 \nQ 1159 2491 1159 1978 \nL 1159 0 \nL 581 0 \nL 581 3500 \nL 1159 3500 \nL 1159 2956 \nQ 1366 3272 1645 3428 \nQ 1925 3584 2291 3584 \nQ 2894 3584 3203 3211 \nQ 3513 2838 3513 2113 \nz\n\" transform=\"scale(0.015625)\"/>\n      <path id=\"DejaVuSans-74\" d=\"M 1172 4494 \nL 1172 3500 \nL 2356 3500 \nL 2356 3053 \nL 1172 3053 \nL 1172 1153 \nQ 1172 725 1289 603 \nQ 1406 481 1766 481 \nL 2356 481 \nL 2356 0 \nL 1766 0 \nQ 1100 0 847 248 \nQ 594 497 594 1153 \nL 594 3053 \nL 172 3053 \nL 172 3500 \nL 594 3500 \nL 594 4494 \nL 1172 4494 \nz\n\" transform=\"scale(0.015625)\"/>\n      <path id=\"DejaVuSans-20\" transform=\"scale(0.015625)\"/>\n      <path id=\"DejaVuSans-4c\" d=\"M 628 4666 \nL 1259 4666 \nL 1259 531 \nL 3531 531 \nL 3531 0 \nL 628 0 \nL 628 4666 \nz\n\" transform=\"scale(0.015625)\"/>\n      <path id=\"DejaVuSans-67\" d=\"M 2906 1791 \nQ 2906 2416 2648 2759 \nQ 2391 3103 1925 3103 \nQ 1463 3103 1205 2759 \nQ 947 2416 947 1791 \nQ 947 1169 1205 825 \nQ 1463 481 1925 481 \nQ 2391 481 2648 825 \nQ 2906 1169 2906 1791 \nz\nM 3481 434 \nQ 3481 -459 3084 -895 \nQ 2688 -1331 1869 -1331 \nQ 1566 -1331 1297 -1286 \nQ 1028 -1241 775 -1147 \nL 775 -588 \nQ 1028 -725 1275 -790 \nQ 1522 -856 1778 -856 \nQ 2344 -856 2625 -561 \nQ 2906 -266 2906 331 \nL 2906 616 \nQ 2728 306 2450 153 \nQ 2172 0 1784 0 \nQ 1141 0 747 490 \nQ 353 981 353 1791 \nQ 353 2603 747 3093 \nQ 1141 3584 1784 3584 \nQ 2172 3584 2450 3431 \nQ 2728 3278 2906 2969 \nL 2906 3500 \nL 3481 3500 \nL 3481 434 \nz\n\" transform=\"scale(0.015625)\"/>\n      <path id=\"DejaVuSans-68\" d=\"M 3513 2113 \nL 3513 0 \nL 2938 0 \nL 2938 2094 \nQ 2938 2591 2744 2837 \nQ 2550 3084 2163 3084 \nQ 1697 3084 1428 2787 \nQ 1159 2491 1159 1978 \nL 1159 0 \nL 581 0 \nL 581 4863 \nL 1159 4863 \nL 1159 2956 \nQ 1366 3272 1645 3428 \nQ 1925 3584 2291 3584 \nQ 2894 3584 3203 3211 \nQ 3513 2838 3513 2113 \nz\n\" transform=\"scale(0.015625)\"/>\n     </defs>\n     <use xlink:href=\"#DejaVuSans-44\"/>\n     <use xlink:href=\"#DejaVuSans-6f\" x=\"77.001953\"/>\n     <use xlink:href=\"#DejaVuSans-63\" x=\"138.183594\"/>\n     <use xlink:href=\"#DejaVuSans-75\" x=\"193.164062\"/>\n     <use xlink:href=\"#DejaVuSans-6d\" x=\"256.542969\"/>\n     <use xlink:href=\"#DejaVuSans-65\" x=\"353.955078\"/>\n     <use xlink:href=\"#DejaVuSans-6e\" x=\"415.478516\"/>\n     <use xlink:href=\"#DejaVuSans-74\" x=\"478.857422\"/>\n     <use xlink:href=\"#DejaVuSans-20\" x=\"518.066406\"/>\n     <use xlink:href=\"#DejaVuSans-4c\" x=\"549.853516\"/>\n     <use xlink:href=\"#DejaVuSans-65\" x=\"603.816406\"/>\n     <use xlink:href=\"#DejaVuSans-6e\" x=\"665.339844\"/>\n     <use xlink:href=\"#DejaVuSans-67\" x=\"728.71875\"/>\n     <use xlink:href=\"#DejaVuSans-74\" x=\"792.195312\"/>\n     <use xlink:href=\"#DejaVuSans-68\" x=\"831.404297\"/>\n    </g>\n   </g>\n  </g>\n </g>\n <defs>\n  <clipPath id=\"p5507ae2acf\">\n   <rect x=\"33.2875\" y=\"24.597656\" width=\"558\" height=\"326.16\"/>\n  </clipPath>\n </defs>\n</svg>\n",
      "image/png": "[encoded data removed]"
     },
     "metadata": {
      "needs_background": "light"
     }
    }
   ],
   "metadata": {}
  },
  {
   "cell_type": "code",
   "execution_count": 15,
   "source": [
    "plt.figure(figsize=(10,6))\n",
    "plt.title('Summary Length', fontsize=15)\n",
    "plt.hist(train_summary_len, color='orange', bins=100)\n",
    "plt.show()"
   ],
   "outputs": [
    {
     "output_type": "display_data",
     "data": {
      "text/plain": [
       "<Figure size 720x432 with 1 Axes>"
      ],
      "image/svg+xml": "<?xml version=\"1.0\" encoding=\"utf-8\" standalone=\"no\"?>\n<!DOCTYPE svg PUBLIC \"-//W3C//DTD SVG 1.1//EN\"\n  \"http://www.w3.org/Graphics/SVG/1.1/DTD/svg11.dtd\">\n<svg xmlns:xlink=\"http://www.w3.org/1999/xlink\" width=\"598.4875pt\" height=\"374.635781pt\" viewBox=\"0 0 598.4875 374.635781\" xmlns=\"http://www.w3.org/2000/svg\" version=\"1.1\">\n <metadata>\n  <rdf:RDF xmlns:dc=\"http://purl.org/dc/elements/1.1/\" xmlns:cc=\"http://creativecommons.org/ns#\" xmlns:rdf=\"http://www.w3.org/1999/02/22-rdf-syntax-ns#\">\n   <cc:Work>\n    <dc:type rdf:resource=\"http://purl.org/dc/dcmitype/StillImage\"/>\n    <dc:date>2021-11-23T09:46:42.141447</dc:date>\n    <dc:format>image/svg+xml</dc:format>\n    <dc:creator>\n     <cc:Agent>\n      <dc:title>Matplotlib v3.5.0, https://matplotlib.org/</dc:title>\n     </cc:Agent>\n    </dc:creator>\n   </cc:Work>\n  </rdf:RDF>\n </metadata>\n <defs>\n  <style type=\"text/css\">*{stroke-linejoin: round; stroke-linecap: butt}</style>\n </defs>\n <g id=\"figure_1\">\n  <g id=\"patch_1\">\n   <path d=\"M 0 374.635781 \nL 598.4875 374.635781 \nL 598.4875 0 \nL 0 0 \nL 0 374.635781 \nz\n\" style=\"fill: none\"/>\n  </g>\n  <g id=\"axes_1\">\n   <g id=\"patch_2\">\n    <path d=\"M 33.2875 350.757656 \nL 591.2875 350.757656 \nL 591.2875 24.597656 \nL 33.2875 24.597656 \nz\n\" style=\"fill: #ffffff\"/>\n   </g>\n   <g id=\"patch_3\">\n    <path d=\"M 58.651136 350.757656 \nL 63.723864 350.757656 \nL 63.723864 349.830407 \nL 58.651136 349.830407 \nz\n\" clip-path=\"url(#pd7b4f92fd6)\" style=\"fill: #ffa500\"/>\n   </g>\n   <g id=\"patch_4\">\n    <path d=\"M 63.723864 350.757656 \nL 68.796591 350.757656 \nL 68.796591 349.830407 \nL 63.723864 349.830407 \nz\n\" clip-path=\"url(#pd7b4f92fd6)\" style=\"fill: #ffa500\"/>\n   </g>\n   <g id=\"patch_5\">\n    <path d=\"M 68.796591 350.757656 \nL 73.869318 350.757656 \nL 73.869318 349.830407 \nL 68.796591 349.830407 \nz\n\" clip-path=\"url(#pd7b4f92fd6)\" style=\"fill: #ffa500\"/>\n   </g>\n   <g id=\"patch_6\">\n    <path d=\"M 73.869318 350.757656 \nL 78.942045 350.757656 \nL 78.942045 350.757656 \nL 73.869318 350.757656 \nz\n\" clip-path=\"url(#pd7b4f92fd6)\" style=\"fill: #ffa500\"/>\n   </g>\n   <g id=\"patch_7\">\n    <path d=\"M 78.942045 350.757656 \nL 84.014773 350.757656 \nL 84.014773 348.903157 \nL 78.942045 348.903157 \nz\n\" clip-path=\"url(#pd7b4f92fd6)\" style=\"fill: #ffa500\"/>\n   </g>\n   <g id=\"patch_8\">\n    <path d=\"M 84.014773 350.757656 \nL 89.0875 350.757656 \nL 89.0875 343.339661 \nL 84.014773 343.339661 \nz\n\" clip-path=\"url(#pd7b4f92fd6)\" style=\"fill: #ffa500\"/>\n   </g>\n   <g id=\"patch_9\">\n    <path d=\"M 89.0875 350.757656 \nL 94.160227 350.757656 \nL 94.160227 344.26691 \nL 89.0875 344.26691 \nz\n\" clip-path=\"url(#pd7b4f92fd6)\" style=\"fill: #ffa500\"/>\n   </g>\n   <g id=\"patch_10\">\n    <path d=\"M 94.160227 350.757656 \nL 99.232955 350.757656 \nL 99.232955 343.339661 \nL 94.160227 343.339661 \nz\n\" clip-path=\"url(#pd7b4f92fd6)\" style=\"fill: #ffa500\"/>\n   </g>\n   <g id=\"patch_11\">\n    <path d=\"M 99.232955 350.757656 \nL 104.305682 350.757656 \nL 104.305682 347.975908 \nL 99.232955 347.975908 \nz\n\" clip-path=\"url(#pd7b4f92fd6)\" style=\"fill: #ffa500\"/>\n   </g>\n   <g id=\"patch_12\">\n    <path d=\"M 104.305682 350.757656 \nL 109.378409 350.757656 \nL 109.378409 345.194159 \nL 104.305682 345.194159 \nz\n\" clip-path=\"url(#pd7b4f92fd6)\" style=\"fill: #ffa500\"/>\n   </g>\n   <g id=\"patch_13\">\n    <path d=\"M 109.378409 350.757656 \nL 114.451136 350.757656 \nL 114.451136 347.975908 \nL 109.378409 347.975908 \nz\n\" clip-path=\"url(#pd7b4f92fd6)\" style=\"fill: #ffa500\"/>\n   </g>\n   <g id=\"patch_14\">\n    <path d=\"M 114.451136 350.757656 \nL 119.523864 350.757656 \nL 119.523864 347.048658 \nL 114.451136 347.048658 \nz\n\" clip-path=\"url(#pd7b4f92fd6)\" style=\"fill: #ffa500\"/>\n   </g>\n   <g id=\"patch_15\">\n    <path d=\"M 119.523864 350.757656 \nL 124.596591 350.757656 \nL 124.596591 347.975908 \nL 119.523864 347.975908 \nz\n\" clip-path=\"url(#pd7b4f92fd6)\" style=\"fill: #ffa500\"/>\n   </g>\n   <g id=\"patch_16\">\n    <path d=\"M 124.596591 350.757656 \nL 129.669318 350.757656 \nL 129.669318 344.26691 \nL 124.596591 344.26691 \nz\n\" clip-path=\"url(#pd7b4f92fd6)\" style=\"fill: #ffa500\"/>\n   </g>\n   <g id=\"patch_17\">\n    <path d=\"M 129.669318 350.757656 \nL 134.742045 350.757656 \nL 134.742045 338.703413 \nL 129.669318 338.703413 \nz\n\" clip-path=\"url(#pd7b4f92fd6)\" style=\"fill: #ffa500\"/>\n   </g>\n   <g id=\"patch_18\">\n    <path d=\"M 134.742045 350.757656 \nL 139.814773 350.757656 \nL 139.814773 345.194159 \nL 134.742045 345.194159 \nz\n\" clip-path=\"url(#pd7b4f92fd6)\" style=\"fill: #ffa500\"/>\n   </g>\n   <g id=\"patch_19\">\n    <path d=\"M 139.814773 350.757656 \nL 144.8875 350.757656 \nL 144.8875 344.26691 \nL 139.814773 344.26691 \nz\n\" clip-path=\"url(#pd7b4f92fd6)\" style=\"fill: #ffa500\"/>\n   </g>\n   <g id=\"patch_20\">\n    <path d=\"M 144.8875 350.757656 \nL 149.960227 350.757656 \nL 149.960227 338.703413 \nL 144.8875 338.703413 \nz\n\" clip-path=\"url(#pd7b4f92fd6)\" style=\"fill: #ffa500\"/>\n   </g>\n   <g id=\"patch_21\">\n    <path d=\"M 149.960227 350.757656 \nL 155.032955 350.757656 \nL 155.032955 340.557912 \nL 149.960227 340.557912 \nz\n\" clip-path=\"url(#pd7b4f92fd6)\" style=\"fill: #ffa500\"/>\n   </g>\n   <g id=\"patch_22\">\n    <path d=\"M 155.032955 350.757656 \nL 160.105682 350.757656 \nL 160.105682 341.485162 \nL 155.032955 341.485162 \nz\n\" clip-path=\"url(#pd7b4f92fd6)\" style=\"fill: #ffa500\"/>\n   </g>\n   <g id=\"patch_23\">\n    <path d=\"M 160.105682 350.757656 \nL 165.178409 350.757656 \nL 165.178409 333.139916 \nL 160.105682 333.139916 \nz\n\" clip-path=\"url(#pd7b4f92fd6)\" style=\"fill: #ffa500\"/>\n   </g>\n   <g id=\"patch_24\">\n    <path d=\"M 165.178409 350.757656 \nL 170.251136 350.757656 \nL 170.251136 311.813179 \nL 165.178409 311.813179 \nz\n\" clip-path=\"url(#pd7b4f92fd6)\" style=\"fill: #ffa500\"/>\n   </g>\n   <g id=\"patch_25\">\n    <path d=\"M 170.251136 350.757656 \nL 175.323864 350.757656 \nL 175.323864 331.285417 \nL 170.251136 331.285417 \nz\n\" clip-path=\"url(#pd7b4f92fd6)\" style=\"fill: #ffa500\"/>\n   </g>\n   <g id=\"patch_26\">\n    <path d=\"M 175.323864 350.757656 \nL 180.396591 350.757656 \nL 180.396591 330.358168 \nL 175.323864 330.358168 \nz\n\" clip-path=\"url(#pd7b4f92fd6)\" style=\"fill: #ffa500\"/>\n   </g>\n   <g id=\"patch_27\">\n    <path d=\"M 180.396591 350.757656 \nL 185.469318 350.757656 \nL 185.469318 328.503669 \nL 180.396591 328.503669 \nz\n\" clip-path=\"url(#pd7b4f92fd6)\" style=\"fill: #ffa500\"/>\n   </g>\n   <g id=\"patch_28\">\n    <path d=\"M 185.469318 350.757656 \nL 190.542045 350.757656 \nL 190.542045 328.503669 \nL 185.469318 328.503669 \nz\n\" clip-path=\"url(#pd7b4f92fd6)\" style=\"fill: #ffa500\"/>\n   </g>\n   <g id=\"patch_29\">\n    <path d=\"M 190.542045 350.757656 \nL 195.614773 350.757656 \nL 195.614773 323.867422 \nL 190.542045 323.867422 \nz\n\" clip-path=\"url(#pd7b4f92fd6)\" style=\"fill: #ffa500\"/>\n   </g>\n   <g id=\"patch_30\">\n    <path d=\"M 195.614773 350.757656 \nL 200.6875 350.757656 \nL 200.6875 316.449426 \nL 195.614773 316.449426 \nz\n\" clip-path=\"url(#pd7b4f92fd6)\" style=\"fill: #ffa500\"/>\n   </g>\n   <g id=\"patch_31\">\n    <path d=\"M 200.6875 350.757656 \nL 205.760227 350.757656 \nL 205.760227 295.122688 \nL 200.6875 295.122688 \nz\n\" clip-path=\"url(#pd7b4f92fd6)\" style=\"fill: #ffa500\"/>\n   </g>\n   <g id=\"patch_32\">\n    <path d=\"M 205.760227 350.757656 \nL 210.832955 350.757656 \nL 210.832955 322.940172 \nL 205.760227 322.940172 \nz\n\" clip-path=\"url(#pd7b4f92fd6)\" style=\"fill: #ffa500\"/>\n   </g>\n   <g id=\"patch_33\">\n    <path d=\"M 210.832955 350.757656 \nL 215.905682 350.757656 \nL 215.905682 318.303925 \nL 210.832955 318.303925 \nz\n\" clip-path=\"url(#pd7b4f92fd6)\" style=\"fill: #ffa500\"/>\n   </g>\n   <g id=\"patch_34\">\n    <path d=\"M 215.905682 350.757656 \nL 220.978409 350.757656 \nL 220.978409 317.376675 \nL 215.905682 317.376675 \nz\n\" clip-path=\"url(#pd7b4f92fd6)\" style=\"fill: #ffa500\"/>\n   </g>\n   <g id=\"patch_35\">\n    <path d=\"M 220.978409 350.757656 \nL 226.051136 350.757656 \nL 226.051136 310.885929 \nL 220.978409 310.885929 \nz\n\" clip-path=\"url(#pd7b4f92fd6)\" style=\"fill: #ffa500\"/>\n   </g>\n   <g id=\"patch_36\">\n    <path d=\"M 226.051136 350.757656 \nL 231.123864 350.757656 \nL 231.123864 311.813179 \nL 226.051136 311.813179 \nz\n\" clip-path=\"url(#pd7b4f92fd6)\" style=\"fill: #ffa500\"/>\n   </g>\n   <g id=\"patch_37\">\n    <path d=\"M 231.123864 350.757656 \nL 236.196591 350.757656 \nL 236.196591 292.34094 \nL 231.123864 292.34094 \nz\n\" clip-path=\"url(#pd7b4f92fd6)\" style=\"fill: #ffa500\"/>\n   </g>\n   <g id=\"patch_38\">\n    <path d=\"M 236.196591 350.757656 \nL 241.269318 350.757656 \nL 241.269318 207.961238 \nL 236.196591 207.961238 \nz\n\" clip-path=\"url(#pd7b4f92fd6)\" style=\"fill: #ffa500\"/>\n   </g>\n   <g id=\"patch_39\">\n    <path d=\"M 241.269318 350.757656 \nL 246.342045 350.757656 \nL 246.342045 281.213946 \nL 241.269318 281.213946 \nz\n\" clip-path=\"url(#pd7b4f92fd6)\" style=\"fill: #ffa500\"/>\n   </g>\n   <g id=\"patch_40\">\n    <path d=\"M 246.342045 350.757656 \nL 251.414773 350.757656 \nL 251.414773 266.377955 \nL 246.342045 266.377955 \nz\n\" clip-path=\"url(#pd7b4f92fd6)\" style=\"fill: #ffa500\"/>\n   </g>\n   <g id=\"patch_41\">\n    <path d=\"M 251.414773 350.757656 \nL 256.4875 350.757656 \nL 256.4875 258.03271 \nL 251.414773 258.03271 \nz\n\" clip-path=\"url(#pd7b4f92fd6)\" style=\"fill: #ffa500\"/>\n   </g>\n   <g id=\"patch_42\">\n    <path d=\"M 256.4875 350.757656 \nL 261.560227 350.757656 \nL 261.560227 236.705972 \nL 256.4875 236.705972 \nz\n\" clip-path=\"url(#pd7b4f92fd6)\" style=\"fill: #ffa500\"/>\n   </g>\n   <g id=\"patch_43\">\n    <path d=\"M 261.560227 350.757656 \nL 266.632955 350.757656 \nL 266.632955 235.778722 \nL 261.560227 235.778722 \nz\n\" clip-path=\"url(#pd7b4f92fd6)\" style=\"fill: #ffa500\"/>\n   </g>\n   <g id=\"patch_44\">\n    <path d=\"M 266.632955 350.757656 \nL 271.705682 350.757656 \nL 271.705682 223.724479 \nL 266.632955 223.724479 \nz\n\" clip-path=\"url(#pd7b4f92fd6)\" style=\"fill: #ffa500\"/>\n   </g>\n   <g id=\"patch_45\">\n    <path d=\"M 271.705682 350.757656 \nL 276.778409 350.757656 \nL 276.778409 52.183328 \nL 271.705682 52.183328 \nz\n\" clip-path=\"url(#pd7b4f92fd6)\" style=\"fill: #ffa500\"/>\n   </g>\n   <g id=\"patch_46\">\n    <path d=\"M 276.778409 350.757656 \nL 281.851136 350.757656 \nL 281.851136 190.343498 \nL 276.778409 190.343498 \nz\n\" clip-path=\"url(#pd7b4f92fd6)\" style=\"fill: #ffa500\"/>\n   </g>\n   <g id=\"patch_47\">\n    <path d=\"M 281.851136 350.757656 \nL 286.923864 350.757656 \nL 286.923864 194.052496 \nL 281.851136 194.052496 \nz\n\" clip-path=\"url(#pd7b4f92fd6)\" style=\"fill: #ffa500\"/>\n   </g>\n   <g id=\"patch_48\">\n    <path d=\"M 286.923864 350.757656 \nL 291.996591 350.757656 \nL 291.996591 148.617272 \nL 286.923864 148.617272 \nz\n\" clip-path=\"url(#pd7b4f92fd6)\" style=\"fill: #ffa500\"/>\n   </g>\n   <g id=\"patch_49\">\n    <path d=\"M 291.996591 350.757656 \nL 297.069318 350.757656 \nL 297.069318 142.126526 \nL 291.996591 142.126526 \nz\n\" clip-path=\"url(#pd7b4f92fd6)\" style=\"fill: #ffa500\"/>\n   </g>\n   <g id=\"patch_50\">\n    <path d=\"M 297.069318 350.757656 \nL 302.142045 350.757656 \nL 302.142045 176.434756 \nL 297.069318 176.434756 \nz\n\" clip-path=\"url(#pd7b4f92fd6)\" style=\"fill: #ffa500\"/>\n   </g>\n   <g id=\"patch_51\">\n    <path d=\"M 302.142045 350.757656 \nL 307.214773 350.757656 \nL 307.214773 165.307763 \nL 302.142045 165.307763 \nz\n\" clip-path=\"url(#pd7b4f92fd6)\" style=\"fill: #ffa500\"/>\n   </g>\n   <g id=\"patch_52\">\n    <path d=\"M 307.214773 350.757656 \nL 312.2875 350.757656 \nL 312.2875 176.434756 \nL 307.214773 176.434756 \nz\n\" clip-path=\"url(#pd7b4f92fd6)\" style=\"fill: #ffa500\"/>\n   </g>\n   <g id=\"patch_53\">\n    <path d=\"M 312.2875 350.757656 \nL 317.360227 350.757656 \nL 317.360227 40.129085 \nL 312.2875 40.129085 \nz\n\" clip-path=\"url(#pd7b4f92fd6)\" style=\"fill: #ffa500\"/>\n   </g>\n   <g id=\"patch_54\">\n    <path d=\"M 317.360227 350.757656 \nL 322.432955 350.757656 \nL 322.432955 182.925503 \nL 317.360227 182.925503 \nz\n\" clip-path=\"url(#pd7b4f92fd6)\" style=\"fill: #ffa500\"/>\n   </g>\n   <g id=\"patch_55\">\n    <path d=\"M 322.432955 350.757656 \nL 327.505682 350.757656 \nL 327.505682 219.088232 \nL 322.432955 219.088232 \nz\n\" clip-path=\"url(#pd7b4f92fd6)\" style=\"fill: #ffa500\"/>\n   </g>\n   <g id=\"patch_56\">\n    <path d=\"M 327.505682 350.757656 \nL 332.578409 350.757656 \nL 332.578409 205.17949 \nL 327.505682 205.17949 \nz\n\" clip-path=\"url(#pd7b4f92fd6)\" style=\"fill: #ffa500\"/>\n   </g>\n   <g id=\"patch_57\">\n    <path d=\"M 332.578409 350.757656 \nL 337.651136 350.757656 \nL 337.651136 231.142475 \nL 332.578409 231.142475 \nz\n\" clip-path=\"url(#pd7b4f92fd6)\" style=\"fill: #ffa500\"/>\n   </g>\n   <g id=\"patch_58\">\n    <path d=\"M 337.651136 350.757656 \nL 342.723864 350.757656 \nL 342.723864 253.396462 \nL 337.651136 253.396462 \nz\n\" clip-path=\"url(#pd7b4f92fd6)\" style=\"fill: #ffa500\"/>\n   </g>\n   <g id=\"patch_59\">\n    <path d=\"M 342.723864 350.757656 \nL 347.796591 350.757656 \nL 347.796591 261.741707 \nL 342.723864 261.741707 \nz\n\" clip-path=\"url(#pd7b4f92fd6)\" style=\"fill: #ffa500\"/>\n   </g>\n   <g id=\"patch_60\">\n    <path d=\"M 347.796591 350.757656 \nL 352.869318 350.757656 \nL 352.869318 190.343498 \nL 347.796591 190.343498 \nz\n\" clip-path=\"url(#pd7b4f92fd6)\" style=\"fill: #ffa500\"/>\n   </g>\n   <g id=\"patch_61\">\n    <path d=\"M 352.869318 350.757656 \nL 357.942045 350.757656 \nL 357.942045 302.540684 \nL 352.869318 302.540684 \nz\n\" clip-path=\"url(#pd7b4f92fd6)\" style=\"fill: #ffa500\"/>\n   </g>\n   <g id=\"patch_62\">\n    <path d=\"M 357.942045 350.757656 \nL 363.014773 350.757656 \nL 363.014773 299.758936 \nL 357.942045 299.758936 \nz\n\" clip-path=\"url(#pd7b4f92fd6)\" style=\"fill: #ffa500\"/>\n   </g>\n   <g id=\"patch_63\">\n    <path d=\"M 363.014773 350.757656 \nL 368.0875 350.757656 \nL 368.0875 320.158424 \nL 363.014773 320.158424 \nz\n\" clip-path=\"url(#pd7b4f92fd6)\" style=\"fill: #ffa500\"/>\n   </g>\n   <g id=\"patch_64\">\n    <path d=\"M 368.0875 350.757656 \nL 373.160227 350.757656 \nL 373.160227 327.57642 \nL 368.0875 327.57642 \nz\n\" clip-path=\"url(#pd7b4f92fd6)\" style=\"fill: #ffa500\"/>\n   </g>\n   <g id=\"patch_65\">\n    <path d=\"M 373.160227 350.757656 \nL 378.232955 350.757656 \nL 378.232955 320.158424 \nL 373.160227 320.158424 \nz\n\" clip-path=\"url(#pd7b4f92fd6)\" style=\"fill: #ffa500\"/>\n   </g>\n   <g id=\"patch_66\">\n    <path d=\"M 378.232955 350.757656 \nL 383.305682 350.757656 \nL 383.305682 334.067166 \nL 378.232955 334.067166 \nz\n\" clip-path=\"url(#pd7b4f92fd6)\" style=\"fill: #ffa500\"/>\n   </g>\n   <g id=\"patch_67\">\n    <path d=\"M 383.305682 350.757656 \nL 388.378409 350.757656 \nL 388.378409 317.376675 \nL 383.305682 317.376675 \nz\n\" clip-path=\"url(#pd7b4f92fd6)\" style=\"fill: #ffa500\"/>\n   </g>\n   <g id=\"patch_68\">\n    <path d=\"M 388.378409 350.757656 \nL 393.451136 350.757656 \nL 393.451136 335.921665 \nL 388.378409 335.921665 \nz\n\" clip-path=\"url(#pd7b4f92fd6)\" style=\"fill: #ffa500\"/>\n   </g>\n   <g id=\"patch_69\">\n    <path d=\"M 393.451136 350.757656 \nL 398.523864 350.757656 \nL 398.523864 338.703413 \nL 393.451136 338.703413 \nz\n\" clip-path=\"url(#pd7b4f92fd6)\" style=\"fill: #ffa500\"/>\n   </g>\n   <g id=\"patch_70\">\n    <path d=\"M 398.523864 350.757656 \nL 403.596591 350.757656 \nL 403.596591 338.703413 \nL 398.523864 338.703413 \nz\n\" clip-path=\"url(#pd7b4f92fd6)\" style=\"fill: #ffa500\"/>\n   </g>\n   <g id=\"patch_71\">\n    <path d=\"M 403.596591 350.757656 \nL 408.669318 350.757656 \nL 408.669318 338.703413 \nL 403.596591 338.703413 \nz\n\" clip-path=\"url(#pd7b4f92fd6)\" style=\"fill: #ffa500\"/>\n   </g>\n   <g id=\"patch_72\">\n    <path d=\"M 408.669318 350.757656 \nL 413.742045 350.757656 \nL 413.742045 341.485162 \nL 408.669318 341.485162 \nz\n\" clip-path=\"url(#pd7b4f92fd6)\" style=\"fill: #ffa500\"/>\n   </g>\n   <g id=\"patch_73\">\n    <path d=\"M 413.742045 350.757656 \nL 418.814773 350.757656 \nL 418.814773 342.412411 \nL 413.742045 342.412411 \nz\n\" clip-path=\"url(#pd7b4f92fd6)\" style=\"fill: #ffa500\"/>\n   </g>\n   <g id=\"patch_74\">\n    <path d=\"M 418.814773 350.757656 \nL 423.8875 350.757656 \nL 423.8875 336.848914 \nL 418.814773 336.848914 \nz\n\" clip-path=\"url(#pd7b4f92fd6)\" style=\"fill: #ffa500\"/>\n   </g>\n   <g id=\"patch_75\">\n    <path d=\"M 423.8875 350.757656 \nL 428.960227 350.757656 \nL 428.960227 347.975908 \nL 423.8875 347.975908 \nz\n\" clip-path=\"url(#pd7b4f92fd6)\" style=\"fill: #ffa500\"/>\n   </g>\n   <g id=\"patch_76\">\n    <path d=\"M 428.960227 350.757656 \nL 434.032955 350.757656 \nL 434.032955 344.26691 \nL 428.960227 344.26691 \nz\n\" clip-path=\"url(#pd7b4f92fd6)\" style=\"fill: #ffa500\"/>\n   </g>\n   <g id=\"patch_77\">\n    <path d=\"M 434.032955 350.757656 \nL 439.105682 350.757656 \nL 439.105682 349.830407 \nL 434.032955 349.830407 \nz\n\" clip-path=\"url(#pd7b4f92fd6)\" style=\"fill: #ffa500\"/>\n   </g>\n   <g id=\"patch_78\">\n    <path d=\"M 439.105682 350.757656 \nL 444.178409 350.757656 \nL 444.178409 347.975908 \nL 439.105682 347.975908 \nz\n\" clip-path=\"url(#pd7b4f92fd6)\" style=\"fill: #ffa500\"/>\n   </g>\n   <g id=\"patch_79\">\n    <path d=\"M 444.178409 350.757656 \nL 449.251136 350.757656 \nL 449.251136 347.048658 \nL 444.178409 347.048658 \nz\n\" clip-path=\"url(#pd7b4f92fd6)\" style=\"fill: #ffa500\"/>\n   </g>\n   <g id=\"patch_80\">\n    <path d=\"M 449.251136 350.757656 \nL 454.323864 350.757656 \nL 454.323864 345.194159 \nL 449.251136 345.194159 \nz\n\" clip-path=\"url(#pd7b4f92fd6)\" style=\"fill: #ffa500\"/>\n   </g>\n   <g id=\"patch_81\">\n    <path d=\"M 454.323864 350.757656 \nL 459.396591 350.757656 \nL 459.396591 347.975908 \nL 454.323864 347.975908 \nz\n\" clip-path=\"url(#pd7b4f92fd6)\" style=\"fill: #ffa500\"/>\n   </g>\n   <g id=\"patch_82\">\n    <path d=\"M 459.396591 350.757656 \nL 464.469318 350.757656 \nL 464.469318 349.830407 \nL 459.396591 349.830407 \nz\n\" clip-path=\"url(#pd7b4f92fd6)\" style=\"fill: #ffa500\"/>\n   </g>\n   <g id=\"patch_83\">\n    <path d=\"M 464.469318 350.757656 \nL 469.542045 350.757656 \nL 469.542045 347.975908 \nL 464.469318 347.975908 \nz\n\" clip-path=\"url(#pd7b4f92fd6)\" style=\"fill: #ffa500\"/>\n   </g>\n   <g id=\"patch_84\">\n    <path d=\"M 469.542045 350.757656 \nL 474.614773 350.757656 \nL 474.614773 349.830407 \nL 469.542045 349.830407 \nz\n\" clip-path=\"url(#pd7b4f92fd6)\" style=\"fill: #ffa500\"/>\n   </g>\n   <g id=\"patch_85\">\n    <path d=\"M 474.614773 350.757656 \nL 479.6875 350.757656 \nL 479.6875 350.757656 \nL 474.614773 350.757656 \nz\n\" clip-path=\"url(#pd7b4f92fd6)\" style=\"fill: #ffa500\"/>\n   </g>\n   <g id=\"patch_86\">\n    <path d=\"M 479.6875 350.757656 \nL 484.760227 350.757656 \nL 484.760227 349.830407 \nL 479.6875 349.830407 \nz\n\" clip-path=\"url(#pd7b4f92fd6)\" style=\"fill: #ffa500\"/>\n   </g>\n   <g id=\"patch_87\">\n    <path d=\"M 484.760227 350.757656 \nL 489.832955 350.757656 \nL 489.832955 349.830407 \nL 484.760227 349.830407 \nz\n\" clip-path=\"url(#pd7b4f92fd6)\" style=\"fill: #ffa500\"/>\n   </g>\n   <g id=\"patch_88\">\n    <path d=\"M 489.832955 350.757656 \nL 494.905682 350.757656 \nL 494.905682 349.830407 \nL 489.832955 349.830407 \nz\n\" clip-path=\"url(#pd7b4f92fd6)\" style=\"fill: #ffa500\"/>\n   </g>\n   <g id=\"patch_89\">\n    <path d=\"M 494.905682 350.757656 \nL 499.978409 350.757656 \nL 499.978409 350.757656 \nL 494.905682 350.757656 \nz\n\" clip-path=\"url(#pd7b4f92fd6)\" style=\"fill: #ffa500\"/>\n   </g>\n   <g id=\"patch_90\">\n    <path d=\"M 499.978409 350.757656 \nL 505.051136 350.757656 \nL 505.051136 349.830407 \nL 499.978409 349.830407 \nz\n\" clip-path=\"url(#pd7b4f92fd6)\" style=\"fill: #ffa500\"/>\n   </g>\n   <g id=\"patch_91\">\n    <path d=\"M 505.051136 350.757656 \nL 510.123864 350.757656 \nL 510.123864 349.830407 \nL 505.051136 349.830407 \nz\n\" clip-path=\"url(#pd7b4f92fd6)\" style=\"fill: #ffa500\"/>\n   </g>\n   <g id=\"patch_92\">\n    <path d=\"M 510.123864 350.757656 \nL 515.196591 350.757656 \nL 515.196591 349.830407 \nL 510.123864 349.830407 \nz\n\" clip-path=\"url(#pd7b4f92fd6)\" style=\"fill: #ffa500\"/>\n   </g>\n   <g id=\"patch_93\">\n    <path d=\"M 515.196591 350.757656 \nL 520.269318 350.757656 \nL 520.269318 350.757656 \nL 515.196591 350.757656 \nz\n\" clip-path=\"url(#pd7b4f92fd6)\" style=\"fill: #ffa500\"/>\n   </g>\n   <g id=\"patch_94\">\n    <path d=\"M 520.269318 350.757656 \nL 525.342045 350.757656 \nL 525.342045 350.757656 \nL 520.269318 350.757656 \nz\n\" clip-path=\"url(#pd7b4f92fd6)\" style=\"fill: #ffa500\"/>\n   </g>\n   <g id=\"patch_95\">\n    <path d=\"M 525.342045 350.757656 \nL 530.414773 350.757656 \nL 530.414773 350.757656 \nL 525.342045 350.757656 \nz\n\" clip-path=\"url(#pd7b4f92fd6)\" style=\"fill: #ffa500\"/>\n   </g>\n   <g id=\"patch_96\">\n    <path d=\"M 530.414773 350.757656 \nL 535.4875 350.757656 \nL 535.4875 349.830407 \nL 530.414773 349.830407 \nz\n\" clip-path=\"url(#pd7b4f92fd6)\" style=\"fill: #ffa500\"/>\n   </g>\n   <g id=\"patch_97\">\n    <path d=\"M 535.4875 350.757656 \nL 540.560227 350.757656 \nL 540.560227 350.757656 \nL 535.4875 350.757656 \nz\n\" clip-path=\"url(#pd7b4f92fd6)\" style=\"fill: #ffa500\"/>\n   </g>\n   <g id=\"patch_98\">\n    <path d=\"M 540.560227 350.757656 \nL 545.632955 350.757656 \nL 545.632955 350.757656 \nL 540.560227 350.757656 \nz\n\" clip-path=\"url(#pd7b4f92fd6)\" style=\"fill: #ffa500\"/>\n   </g>\n   <g id=\"patch_99\">\n    <path d=\"M 545.632955 350.757656 \nL 550.705682 350.757656 \nL 550.705682 350.757656 \nL 545.632955 350.757656 \nz\n\" clip-path=\"url(#pd7b4f92fd6)\" style=\"fill: #ffa500\"/>\n   </g>\n   <g id=\"patch_100\">\n    <path d=\"M 550.705682 350.757656 \nL 555.778409 350.757656 \nL 555.778409 350.757656 \nL 550.705682 350.757656 \nz\n\" clip-path=\"url(#pd7b4f92fd6)\" style=\"fill: #ffa500\"/>\n   </g>\n   <g id=\"patch_101\">\n    <path d=\"M 555.778409 350.757656 \nL 560.851136 350.757656 \nL 560.851136 350.757656 \nL 555.778409 350.757656 \nz\n\" clip-path=\"url(#pd7b4f92fd6)\" style=\"fill: #ffa500\"/>\n   </g>\n   <g id=\"patch_102\">\n    <path d=\"M 560.851136 350.757656 \nL 565.923864 350.757656 \nL 565.923864 349.830407 \nL 560.851136 349.830407 \nz\n\" clip-path=\"url(#pd7b4f92fd6)\" style=\"fill: #ffa500\"/>\n   </g>\n   <g id=\"matplotlib.axis_1\">\n    <g id=\"xtick_1\">\n     <g id=\"line2d_1\">\n      <defs>\n       <path id=\"ma3be4e573f\" d=\"M 0 0 \nL 0 3.5 \n\" style=\"stroke: #000000; stroke-width: 0.8\"/>\n      </defs>\n      <g>\n       <use xlink:href=\"#ma3be4e573f\" x=\"85.349701\" y=\"350.757656\" style=\"stroke: #000000; stroke-width: 0.8\"/>\n      </g>\n     </g>\n     <g id=\"text_1\">\n      <!-- 20 -->\n      <g transform=\"translate(78.987201 365.356094)scale(0.1 -0.1)\">\n       <defs>\n        <path id=\"DejaVuSans-32\" d=\"M 1228 531 \nL 3431 531 \nL 3431 0 \nL 469 0 \nL 469 531 \nQ 828 903 1448 1529 \nQ 2069 2156 2228 2338 \nQ 2531 2678 2651 2914 \nQ 2772 3150 2772 3378 \nQ 2772 3750 2511 3984 \nQ 2250 4219 1831 4219 \nQ 1534 4219 1204 4116 \nQ 875 4013 500 3803 \nL 500 4441 \nQ 881 4594 1212 4672 \nQ 1544 4750 1819 4750 \nQ 2544 4750 2975 4387 \nQ 3406 4025 3406 3419 \nQ 3406 3131 3298 2873 \nQ 3191 2616 2906 2266 \nQ 2828 2175 2409 1742 \nQ 1991 1309 1228 531 \nz\n\" transform=\"scale(0.015625)\"/>\n        <path id=\"DejaVuSans-30\" d=\"M 2034 4250 \nQ 1547 4250 1301 3770 \nQ 1056 3291 1056 2328 \nQ 1056 1369 1301 889 \nQ 1547 409 2034 409 \nQ 2525 409 2770 889 \nQ 3016 1369 3016 2328 \nQ 3016 3291 2770 3770 \nQ 2525 4250 2034 4250 \nz\nM 2034 4750 \nQ 2819 4750 3233 4129 \nQ 3647 3509 3647 2328 \nQ 3647 1150 3233 529 \nQ 2819 -91 2034 -91 \nQ 1250 -91 836 529 \nQ 422 1150 422 2328 \nQ 422 3509 836 4129 \nQ 1250 4750 2034 4750 \nz\n\" transform=\"scale(0.015625)\"/>\n       </defs>\n       <use xlink:href=\"#DejaVuSans-32\"/>\n       <use xlink:href=\"#DejaVuSans-30\" x=\"63.623047\"/>\n      </g>\n     </g>\n    </g>\n    <g id=\"xtick_2\">\n     <g id=\"line2d_2\">\n      <g>\n       <use xlink:href=\"#ma3be4e573f\" x=\"174.344916\" y=\"350.757656\" style=\"stroke: #000000; stroke-width: 0.8\"/>\n      </g>\n     </g>\n     <g id=\"text_2\">\n      <!-- 40 -->\n      <g transform=\"translate(167.982416 365.356094)scale(0.1 -0.1)\">\n       <defs>\n        <path id=\"DejaVuSans-34\" d=\"M 2419 4116 \nL 825 1625 \nL 2419 1625 \nL 2419 4116 \nz\nM 2253 4666 \nL 3047 4666 \nL 3047 1625 \nL 3713 1625 \nL 3713 1100 \nL 3047 1100 \nL 3047 0 \nL 2419 0 \nL 2419 1100 \nL 313 1100 \nL 313 1709 \nL 2253 4666 \nz\n\" transform=\"scale(0.015625)\"/>\n       </defs>\n       <use xlink:href=\"#DejaVuSans-34\"/>\n       <use xlink:href=\"#DejaVuSans-30\" x=\"63.623047\"/>\n      </g>\n     </g>\n    </g>\n    <g id=\"xtick_3\">\n     <g id=\"line2d_3\">\n      <g>\n       <use xlink:href=\"#ma3be4e573f\" x=\"263.340132\" y=\"350.757656\" style=\"stroke: #000000; stroke-width: 0.8\"/>\n      </g>\n     </g>\n     <g id=\"text_3\">\n      <!-- 60 -->\n      <g transform=\"translate(256.977632 365.356094)scale(0.1 -0.1)\">\n       <defs>\n        <path id=\"DejaVuSans-36\" d=\"M 2113 2584 \nQ 1688 2584 1439 2293 \nQ 1191 2003 1191 1497 \nQ 1191 994 1439 701 \nQ 1688 409 2113 409 \nQ 2538 409 2786 701 \nQ 3034 994 3034 1497 \nQ 3034 2003 2786 2293 \nQ 2538 2584 2113 2584 \nz\nM 3366 4563 \nL 3366 3988 \nQ 3128 4100 2886 4159 \nQ 2644 4219 2406 4219 \nQ 1781 4219 1451 3797 \nQ 1122 3375 1075 2522 \nQ 1259 2794 1537 2939 \nQ 1816 3084 2150 3084 \nQ 2853 3084 3261 2657 \nQ 3669 2231 3669 1497 \nQ 3669 778 3244 343 \nQ 2819 -91 2113 -91 \nQ 1303 -91 875 529 \nQ 447 1150 447 2328 \nQ 447 3434 972 4092 \nQ 1497 4750 2381 4750 \nQ 2619 4750 2861 4703 \nQ 3103 4656 3366 4563 \nz\n\" transform=\"scale(0.015625)\"/>\n       </defs>\n       <use xlink:href=\"#DejaVuSans-36\"/>\n       <use xlink:href=\"#DejaVuSans-30\" x=\"63.623047\"/>\n      </g>\n     </g>\n    </g>\n    <g id=\"xtick_4\">\n     <g id=\"line2d_4\">\n      <g>\n       <use xlink:href=\"#ma3be4e573f\" x=\"352.335347\" y=\"350.757656\" style=\"stroke: #000000; stroke-width: 0.8\"/>\n      </g>\n     </g>\n     <g id=\"text_4\">\n      <!-- 80 -->\n      <g transform=\"translate(345.972847 365.356094)scale(0.1 -0.1)\">\n       <defs>\n        <path id=\"DejaVuSans-38\" d=\"M 2034 2216 \nQ 1584 2216 1326 1975 \nQ 1069 1734 1069 1313 \nQ 1069 891 1326 650 \nQ 1584 409 2034 409 \nQ 2484 409 2743 651 \nQ 3003 894 3003 1313 \nQ 3003 1734 2745 1975 \nQ 2488 2216 2034 2216 \nz\nM 1403 2484 \nQ 997 2584 770 2862 \nQ 544 3141 544 3541 \nQ 544 4100 942 4425 \nQ 1341 4750 2034 4750 \nQ 2731 4750 3128 4425 \nQ 3525 4100 3525 3541 \nQ 3525 3141 3298 2862 \nQ 3072 2584 2669 2484 \nQ 3125 2378 3379 2068 \nQ 3634 1759 3634 1313 \nQ 3634 634 3220 271 \nQ 2806 -91 2034 -91 \nQ 1263 -91 848 271 \nQ 434 634 434 1313 \nQ 434 1759 690 2068 \nQ 947 2378 1403 2484 \nz\nM 1172 3481 \nQ 1172 3119 1398 2916 \nQ 1625 2713 2034 2713 \nQ 2441 2713 2670 2916 \nQ 2900 3119 2900 3481 \nQ 2900 3844 2670 4047 \nQ 2441 4250 2034 4250 \nQ 1625 4250 1398 4047 \nQ 1172 3844 1172 3481 \nz\n\" transform=\"scale(0.015625)\"/>\n       </defs>\n       <use xlink:href=\"#DejaVuSans-38\"/>\n       <use xlink:href=\"#DejaVuSans-30\" x=\"63.623047\"/>\n      </g>\n     </g>\n    </g>\n    <g id=\"xtick_5\">\n     <g id=\"line2d_5\">\n      <g>\n       <use xlink:href=\"#ma3be4e573f\" x=\"441.330562\" y=\"350.757656\" style=\"stroke: #000000; stroke-width: 0.8\"/>\n      </g>\n     </g>\n     <g id=\"text_5\">\n      <!-- 100 -->\n      <g transform=\"translate(431.786812 365.356094)scale(0.1 -0.1)\">\n       <defs>\n        <path id=\"DejaVuSans-31\" d=\"M 794 531 \nL 1825 531 \nL 1825 4091 \nL 703 3866 \nL 703 4441 \nL 1819 4666 \nL 2450 4666 \nL 2450 531 \nL 3481 531 \nL 3481 0 \nL 794 0 \nL 794 531 \nz\n\" transform=\"scale(0.015625)\"/>\n       </defs>\n       <use xlink:href=\"#DejaVuSans-31\"/>\n       <use xlink:href=\"#DejaVuSans-30\" x=\"63.623047\"/>\n       <use xlink:href=\"#DejaVuSans-30\" x=\"127.246094\"/>\n      </g>\n     </g>\n    </g>\n    <g id=\"xtick_6\">\n     <g id=\"line2d_6\">\n      <g>\n       <use xlink:href=\"#ma3be4e573f\" x=\"530.325778\" y=\"350.757656\" style=\"stroke: #000000; stroke-width: 0.8\"/>\n      </g>\n     </g>\n     <g id=\"text_6\">\n      <!-- 120 -->\n      <g transform=\"translate(520.782028 365.356094)scale(0.1 -0.1)\">\n       <use xlink:href=\"#DejaVuSans-31\"/>\n       <use xlink:href=\"#DejaVuSans-32\" x=\"63.623047\"/>\n       <use xlink:href=\"#DejaVuSans-30\" x=\"127.246094\"/>\n      </g>\n     </g>\n    </g>\n   </g>\n   <g id=\"matplotlib.axis_2\">\n    <g id=\"ytick_1\">\n     <g id=\"line2d_7\">\n      <defs>\n       <path id=\"m8d945a5db6\" d=\"M 0 0 \nL -3.5 0 \n\" style=\"stroke: #000000; stroke-width: 0.8\"/>\n      </defs>\n      <g>\n       <use xlink:href=\"#m8d945a5db6\" x=\"33.2875\" y=\"350.757656\" style=\"stroke: #000000; stroke-width: 0.8\"/>\n      </g>\n     </g>\n     <g id=\"text_7\">\n      <!-- 0 -->\n      <g transform=\"translate(19.925 354.556875)scale(0.1 -0.1)\">\n       <use xlink:href=\"#DejaVuSans-30\"/>\n      </g>\n     </g>\n    </g>\n    <g id=\"ytick_2\">\n     <g id=\"line2d_8\">\n      <g>\n       <use xlink:href=\"#m8d945a5db6\" x=\"33.2875\" y=\"304.395183\" style=\"stroke: #000000; stroke-width: 0.8\"/>\n      </g>\n     </g>\n     <g id=\"text_8\">\n      <!-- 50 -->\n      <g transform=\"translate(13.5625 308.194402)scale(0.1 -0.1)\">\n       <defs>\n        <path id=\"DejaVuSans-35\" d=\"M 691 4666 \nL 3169 4666 \nL 3169 4134 \nL 1269 4134 \nL 1269 2991 \nQ 1406 3038 1543 3061 \nQ 1681 3084 1819 3084 \nQ 2600 3084 3056 2656 \nQ 3513 2228 3513 1497 \nQ 3513 744 3044 326 \nQ 2575 -91 1722 -91 \nQ 1428 -91 1123 -41 \nQ 819 9 494 109 \nL 494 744 \nQ 775 591 1075 516 \nQ 1375 441 1709 441 \nQ 2250 441 2565 725 \nQ 2881 1009 2881 1497 \nQ 2881 1984 2565 2268 \nQ 2250 2553 1709 2553 \nQ 1456 2553 1204 2497 \nQ 953 2441 691 2322 \nL 691 4666 \nz\n\" transform=\"scale(0.015625)\"/>\n       </defs>\n       <use xlink:href=\"#DejaVuSans-35\"/>\n       <use xlink:href=\"#DejaVuSans-30\" x=\"63.623047\"/>\n      </g>\n     </g>\n    </g>\n    <g id=\"ytick_3\">\n     <g id=\"line2d_9\">\n      <g>\n       <use xlink:href=\"#m8d945a5db6\" x=\"33.2875\" y=\"258.03271\" style=\"stroke: #000000; stroke-width: 0.8\"/>\n      </g>\n     </g>\n     <g id=\"text_9\">\n      <!-- 100 -->\n      <g transform=\"translate(7.2 261.831928)scale(0.1 -0.1)\">\n       <use xlink:href=\"#DejaVuSans-31\"/>\n       <use xlink:href=\"#DejaVuSans-30\" x=\"63.623047\"/>\n       <use xlink:href=\"#DejaVuSans-30\" x=\"127.246094\"/>\n      </g>\n     </g>\n    </g>\n    <g id=\"ytick_4\">\n     <g id=\"line2d_10\">\n      <g>\n       <use xlink:href=\"#m8d945a5db6\" x=\"33.2875\" y=\"211.670236\" style=\"stroke: #000000; stroke-width: 0.8\"/>\n      </g>\n     </g>\n     <g id=\"text_10\">\n      <!-- 150 -->\n      <g transform=\"translate(7.2 215.469455)scale(0.1 -0.1)\">\n       <use xlink:href=\"#DejaVuSans-31\"/>\n       <use xlink:href=\"#DejaVuSans-35\" x=\"63.623047\"/>\n       <use xlink:href=\"#DejaVuSans-30\" x=\"127.246094\"/>\n      </g>\n     </g>\n    </g>\n    <g id=\"ytick_5\">\n     <g id=\"line2d_11\">\n      <g>\n       <use xlink:href=\"#m8d945a5db6\" x=\"33.2875\" y=\"165.307763\" style=\"stroke: #000000; stroke-width: 0.8\"/>\n      </g>\n     </g>\n     <g id=\"text_11\">\n      <!-- 200 -->\n      <g transform=\"translate(7.2 169.106982)scale(0.1 -0.1)\">\n       <use xlink:href=\"#DejaVuSans-32\"/>\n       <use xlink:href=\"#DejaVuSans-30\" x=\"63.623047\"/>\n       <use xlink:href=\"#DejaVuSans-30\" x=\"127.246094\"/>\n      </g>\n     </g>\n    </g>\n    <g id=\"ytick_6\">\n     <g id=\"line2d_12\">\n      <g>\n       <use xlink:href=\"#m8d945a5db6\" x=\"33.2875\" y=\"118.94529\" style=\"stroke: #000000; stroke-width: 0.8\"/>\n      </g>\n     </g>\n     <g id=\"text_12\">\n      <!-- 250 -->\n      <g transform=\"translate(7.2 122.744508)scale(0.1 -0.1)\">\n       <use xlink:href=\"#DejaVuSans-32\"/>\n       <use xlink:href=\"#DejaVuSans-35\" x=\"63.623047\"/>\n       <use xlink:href=\"#DejaVuSans-30\" x=\"127.246094\"/>\n      </g>\n     </g>\n    </g>\n    <g id=\"ytick_7\">\n     <g id=\"line2d_13\">\n      <g>\n       <use xlink:href=\"#m8d945a5db6\" x=\"33.2875\" y=\"72.582816\" style=\"stroke: #000000; stroke-width: 0.8\"/>\n      </g>\n     </g>\n     <g id=\"text_13\">\n      <!-- 300 -->\n      <g transform=\"translate(7.2 76.382035)scale(0.1 -0.1)\">\n       <defs>\n        <path id=\"DejaVuSans-33\" d=\"M 2597 2516 \nQ 3050 2419 3304 2112 \nQ 3559 1806 3559 1356 \nQ 3559 666 3084 287 \nQ 2609 -91 1734 -91 \nQ 1441 -91 1130 -33 \nQ 819 25 488 141 \nL 488 750 \nQ 750 597 1062 519 \nQ 1375 441 1716 441 \nQ 2309 441 2620 675 \nQ 2931 909 2931 1356 \nQ 2931 1769 2642 2001 \nQ 2353 2234 1838 2234 \nL 1294 2234 \nL 1294 2753 \nL 1863 2753 \nQ 2328 2753 2575 2939 \nQ 2822 3125 2822 3475 \nQ 2822 3834 2567 4026 \nQ 2313 4219 1838 4219 \nQ 1578 4219 1281 4162 \nQ 984 4106 628 3988 \nL 628 4550 \nQ 988 4650 1302 4700 \nQ 1616 4750 1894 4750 \nQ 2613 4750 3031 4423 \nQ 3450 4097 3450 3541 \nQ 3450 3153 3228 2886 \nQ 3006 2619 2597 2516 \nz\n\" transform=\"scale(0.015625)\"/>\n       </defs>\n       <use xlink:href=\"#DejaVuSans-33\"/>\n       <use xlink:href=\"#DejaVuSans-30\" x=\"63.623047\"/>\n       <use xlink:href=\"#DejaVuSans-30\" x=\"127.246094\"/>\n      </g>\n     </g>\n    </g>\n    <g id=\"ytick_8\">\n     <g id=\"line2d_14\">\n      <g>\n       <use xlink:href=\"#m8d945a5db6\" x=\"33.2875\" y=\"26.220343\" style=\"stroke: #000000; stroke-width: 0.8\"/>\n      </g>\n     </g>\n     <g id=\"text_14\">\n      <!-- 350 -->\n      <g transform=\"translate(7.2 30.019562)scale(0.1 -0.1)\">\n       <use xlink:href=\"#DejaVuSans-33\"/>\n       <use xlink:href=\"#DejaVuSans-35\" x=\"63.623047\"/>\n       <use xlink:href=\"#DejaVuSans-30\" x=\"127.246094\"/>\n      </g>\n     </g>\n    </g>\n   </g>\n   <g id=\"patch_103\">\n    <path d=\"M 33.2875 350.757656 \nL 33.2875 24.597656 \n\" style=\"fill: none; stroke: #000000; stroke-width: 0.8; stroke-linejoin: miter; stroke-linecap: square\"/>\n   </g>\n   <g id=\"patch_104\">\n    <path d=\"M 591.2875 350.757656 \nL 591.2875 24.597656 \n\" style=\"fill: none; stroke: #000000; stroke-width: 0.8; stroke-linejoin: miter; stroke-linecap: square\"/>\n   </g>\n   <g id=\"patch_105\">\n    <path d=\"M 33.2875 350.757656 \nL 591.2875 350.757656 \n\" style=\"fill: none; stroke: #000000; stroke-width: 0.8; stroke-linejoin: miter; stroke-linecap: square\"/>\n   </g>\n   <g id=\"patch_106\">\n    <path d=\"M 33.2875 24.597656 \nL 591.2875 24.597656 \n\" style=\"fill: none; stroke: #000000; stroke-width: 0.8; stroke-linejoin: miter; stroke-linecap: square\"/>\n   </g>\n   <g id=\"text_15\">\n    <!-- Summary Length -->\n    <g transform=\"translate(247.789844 18.597656)scale(0.15 -0.15)\">\n     <defs>\n      <path id=\"DejaVuSans-53\" d=\"M 3425 4513 \nL 3425 3897 \nQ 3066 4069 2747 4153 \nQ 2428 4238 2131 4238 \nQ 1616 4238 1336 4038 \nQ 1056 3838 1056 3469 \nQ 1056 3159 1242 3001 \nQ 1428 2844 1947 2747 \nL 2328 2669 \nQ 3034 2534 3370 2195 \nQ 3706 1856 3706 1288 \nQ 3706 609 3251 259 \nQ 2797 -91 1919 -91 \nQ 1588 -91 1214 -16 \nQ 841 59 441 206 \nL 441 856 \nQ 825 641 1194 531 \nQ 1563 422 1919 422 \nQ 2459 422 2753 634 \nQ 3047 847 3047 1241 \nQ 3047 1584 2836 1778 \nQ 2625 1972 2144 2069 \nL 1759 2144 \nQ 1053 2284 737 2584 \nQ 422 2884 422 3419 \nQ 422 4038 858 4394 \nQ 1294 4750 2059 4750 \nQ 2388 4750 2728 4690 \nQ 3069 4631 3425 4513 \nz\n\" transform=\"scale(0.015625)\"/>\n      <path id=\"DejaVuSans-75\" d=\"M 544 1381 \nL 544 3500 \nL 1119 3500 \nL 1119 1403 \nQ 1119 906 1312 657 \nQ 1506 409 1894 409 \nQ 2359 409 2629 706 \nQ 2900 1003 2900 1516 \nL 2900 3500 \nL 3475 3500 \nL 3475 0 \nL 2900 0 \nL 2900 538 \nQ 2691 219 2414 64 \nQ 2138 -91 1772 -91 \nQ 1169 -91 856 284 \nQ 544 659 544 1381 \nz\nM 1991 3584 \nL 1991 3584 \nz\n\" transform=\"scale(0.015625)\"/>\n      <path id=\"DejaVuSans-6d\" d=\"M 3328 2828 \nQ 3544 3216 3844 3400 \nQ 4144 3584 4550 3584 \nQ 5097 3584 5394 3201 \nQ 5691 2819 5691 2113 \nL 5691 0 \nL 5113 0 \nL 5113 2094 \nQ 5113 2597 4934 2840 \nQ 4756 3084 4391 3084 \nQ 3944 3084 3684 2787 \nQ 3425 2491 3425 1978 \nL 3425 0 \nL 2847 0 \nL 2847 2094 \nQ 2847 2600 2669 2842 \nQ 2491 3084 2119 3084 \nQ 1678 3084 1418 2786 \nQ 1159 2488 1159 1978 \nL 1159 0 \nL 581 0 \nL 581 3500 \nL 1159 3500 \nL 1159 2956 \nQ 1356 3278 1631 3431 \nQ 1906 3584 2284 3584 \nQ 2666 3584 2933 3390 \nQ 3200 3197 3328 2828 \nz\n\" transform=\"scale(0.015625)\"/>\n      <path id=\"DejaVuSans-61\" d=\"M 2194 1759 \nQ 1497 1759 1228 1600 \nQ 959 1441 959 1056 \nQ 959 750 1161 570 \nQ 1363 391 1709 391 \nQ 2188 391 2477 730 \nQ 2766 1069 2766 1631 \nL 2766 1759 \nL 2194 1759 \nz\nM 3341 1997 \nL 3341 0 \nL 2766 0 \nL 2766 531 \nQ 2569 213 2275 61 \nQ 1981 -91 1556 -91 \nQ 1019 -91 701 211 \nQ 384 513 384 1019 \nQ 384 1609 779 1909 \nQ 1175 2209 1959 2209 \nL 2766 2209 \nL 2766 2266 \nQ 2766 2663 2505 2880 \nQ 2244 3097 1772 3097 \nQ 1472 3097 1187 3025 \nQ 903 2953 641 2809 \nL 641 3341 \nQ 956 3463 1253 3523 \nQ 1550 3584 1831 3584 \nQ 2591 3584 2966 3190 \nQ 3341 2797 3341 1997 \nz\n\" transform=\"scale(0.015625)\"/>\n      <path id=\"DejaVuSans-72\" d=\"M 2631 2963 \nQ 2534 3019 2420 3045 \nQ 2306 3072 2169 3072 \nQ 1681 3072 1420 2755 \nQ 1159 2438 1159 1844 \nL 1159 0 \nL 581 0 \nL 581 3500 \nL 1159 3500 \nL 1159 2956 \nQ 1341 3275 1631 3429 \nQ 1922 3584 2338 3584 \nQ 2397 3584 2469 3576 \nQ 2541 3569 2628 3553 \nL 2631 2963 \nz\n\" transform=\"scale(0.015625)\"/>\n      <path id=\"DejaVuSans-79\" d=\"M 2059 -325 \nQ 1816 -950 1584 -1140 \nQ 1353 -1331 966 -1331 \nL 506 -1331 \nL 506 -850 \nL 844 -850 \nQ 1081 -850 1212 -737 \nQ 1344 -625 1503 -206 \nL 1606 56 \nL 191 3500 \nL 800 3500 \nL 1894 763 \nL 2988 3500 \nL 3597 3500 \nL 2059 -325 \nz\n\" transform=\"scale(0.015625)\"/>\n      <path id=\"DejaVuSans-20\" transform=\"scale(0.015625)\"/>\n      <path id=\"DejaVuSans-4c\" d=\"M 628 4666 \nL 1259 4666 \nL 1259 531 \nL 3531 531 \nL 3531 0 \nL 628 0 \nL 628 4666 \nz\n\" transform=\"scale(0.015625)\"/>\n      <path id=\"DejaVuSans-65\" d=\"M 3597 1894 \nL 3597 1613 \nL 953 1613 \nQ 991 1019 1311 708 \nQ 1631 397 2203 397 \nQ 2534 397 2845 478 \nQ 3156 559 3463 722 \nL 3463 178 \nQ 3153 47 2828 -22 \nQ 2503 -91 2169 -91 \nQ 1331 -91 842 396 \nQ 353 884 353 1716 \nQ 353 2575 817 3079 \nQ 1281 3584 2069 3584 \nQ 2775 3584 3186 3129 \nQ 3597 2675 3597 1894 \nz\nM 3022 2063 \nQ 3016 2534 2758 2815 \nQ 2500 3097 2075 3097 \nQ 1594 3097 1305 2825 \nQ 1016 2553 972 2059 \nL 3022 2063 \nz\n\" transform=\"scale(0.015625)\"/>\n      <path id=\"DejaVuSans-6e\" d=\"M 3513 2113 \nL 3513 0 \nL 2938 0 \nL 2938 2094 \nQ 2938 2591 2744 2837 \nQ 2550 3084 2163 3084 \nQ 1697 3084 1428 2787 \nQ 1159 2491 1159 1978 \nL 1159 0 \nL 581 0 \nL 581 3500 \nL 1159 3500 \nL 1159 2956 \nQ 1366 3272 1645 3428 \nQ 1925 3584 2291 3584 \nQ 2894 3584 3203 3211 \nQ 3513 2838 3513 2113 \nz\n\" transform=\"scale(0.015625)\"/>\n      <path id=\"DejaVuSans-67\" d=\"M 2906 1791 \nQ 2906 2416 2648 2759 \nQ 2391 3103 1925 3103 \nQ 1463 3103 1205 2759 \nQ 947 2416 947 1791 \nQ 947 1169 1205 825 \nQ 1463 481 1925 481 \nQ 2391 481 2648 825 \nQ 2906 1169 2906 1791 \nz\nM 3481 434 \nQ 3481 -459 3084 -895 \nQ 2688 -1331 1869 -1331 \nQ 1566 -1331 1297 -1286 \nQ 1028 -1241 775 -1147 \nL 775 -588 \nQ 1028 -725 1275 -790 \nQ 1522 -856 1778 -856 \nQ 2344 -856 2625 -561 \nQ 2906 -266 2906 331 \nL 2906 616 \nQ 2728 306 2450 153 \nQ 2172 0 1784 0 \nQ 1141 0 747 490 \nQ 353 981 353 1791 \nQ 353 2603 747 3093 \nQ 1141 3584 1784 3584 \nQ 2172 3584 2450 3431 \nQ 2728 3278 2906 2969 \nL 2906 3500 \nL 3481 3500 \nL 3481 434 \nz\n\" transform=\"scale(0.015625)\"/>\n      <path id=\"DejaVuSans-74\" d=\"M 1172 4494 \nL 1172 3500 \nL 2356 3500 \nL 2356 3053 \nL 1172 3053 \nL 1172 1153 \nQ 1172 725 1289 603 \nQ 1406 481 1766 481 \nL 2356 481 \nL 2356 0 \nL 1766 0 \nQ 1100 0 847 248 \nQ 594 497 594 1153 \nL 594 3053 \nL 172 3053 \nL 172 3500 \nL 594 3500 \nL 594 4494 \nL 1172 4494 \nz\n\" transform=\"scale(0.015625)\"/>\n      <path id=\"DejaVuSans-68\" d=\"M 3513 2113 \nL 3513 0 \nL 2938 0 \nL 2938 2094 \nQ 2938 2591 2744 2837 \nQ 2550 3084 2163 3084 \nQ 1697 3084 1428 2787 \nQ 1159 2491 1159 1978 \nL 1159 0 \nL 581 0 \nL 581 4863 \nL 1159 4863 \nL 1159 2956 \nQ 1366 3272 1645 3428 \nQ 1925 3584 2291 3584 \nQ 2894 3584 3203 3211 \nQ 3513 2838 3513 2113 \nz\n\" transform=\"scale(0.015625)\"/>\n     </defs>\n     <use xlink:href=\"#DejaVuSans-53\"/>\n     <use xlink:href=\"#DejaVuSans-75\" x=\"63.476562\"/>\n     <use xlink:href=\"#DejaVuSans-6d\" x=\"126.855469\"/>\n     <use xlink:href=\"#DejaVuSans-6d\" x=\"224.267578\"/>\n     <use xlink:href=\"#DejaVuSans-61\" x=\"321.679688\"/>\n     <use xlink:href=\"#DejaVuSans-72\" x=\"382.958984\"/>\n     <use xlink:href=\"#DejaVuSans-79\" x=\"424.072266\"/>\n     <use xlink:href=\"#DejaVuSans-20\" x=\"483.251953\"/>\n     <use xlink:href=\"#DejaVuSans-4c\" x=\"515.039062\"/>\n     <use xlink:href=\"#DejaVuSans-65\" x=\"569.001953\"/>\n     <use xlink:href=\"#DejaVuSans-6e\" x=\"630.525391\"/>\n     <use xlink:href=\"#DejaVuSans-67\" x=\"693.904297\"/>\n     <use xlink:href=\"#DejaVuSans-74\" x=\"757.380859\"/>\n     <use xlink:href=\"#DejaVuSans-68\" x=\"796.589844\"/>\n    </g>\n   </g>\n  </g>\n </g>\n <defs>\n  <clipPath id=\"pd7b4f92fd6\">\n   <rect x=\"33.2875\" y=\"24.597656\" width=\"558\" height=\"326.16\"/>\n  </clipPath>\n </defs>\n</svg>\n",
      "image/png": "[encoded data removed]"
     },
     "metadata": {
      "needs_background": "light"
     }
    }
   ],
   "metadata": {}
  },
  {
   "cell_type": "markdown",
   "source": [
    "## Preprocessor"
   ],
   "metadata": {}
  },
  {
   "cell_type": "code",
   "execution_count": 16,
   "source": [
    "preprocessor = Preprocessor()\n",
    "datasets.cleanup_cache_files()\n",
    "datasets = datasets.map(preprocessor.preprocess4train)"
   ],
   "outputs": [
    {
     "output_type": "display_data",
     "data": {
      "text/plain": [
       "HBox(children=(FloatProgress(value=0.0, max=4827.0), HTML(value='')))"
      ],
      "application/vnd.jupyter.widget-view+json": {
       "version_major": 2,
       "version_minor": 0,
       "model_id": "530c132d223546e3ad4f18d85a1e9260"
      }
     },
     "metadata": {}
    },
    {
     "output_type": "stream",
     "name": "stdout",
     "text": [
      "\n"
     ]
    },
    {
     "output_type": "display_data",
     "data": {
      "text/plain": [
       "HBox(children=(FloatProgress(value=0.0, max=4814.0), HTML(value='')))"
      ],
      "application/vnd.jupyter.widget-view+json": {
       "version_major": 2,
       "version_minor": 0,
       "model_id": "9ef12f574c284a5f8c5031718a5e9ec5"
      }
     },
     "metadata": {}
    },
    {
     "output_type": "stream",
     "name": "stdout",
     "text": [
      "\n"
     ]
    }
   ],
   "metadata": {}
  },
  {
   "cell_type": "markdown",
   "source": [
    "## Tokenization"
   ],
   "metadata": {}
  },
  {
   "cell_type": "code",
   "execution_count": 17,
   "source": [
    "from nltk.tokenize import sent_tokenize, word_tokenize"
   ],
   "outputs": [],
   "metadata": {}
  },
  {
   "cell_type": "code",
   "execution_count": 18,
   "source": [
    "tokenizer = AutoTokenizer.from_pretrained('t5-small')"
   ],
   "outputs": [
    {
     "output_type": "stream",
     "name": "stderr",
     "text": [
      "/opt/conda/lib/python3.8/site-packages/transformers/configuration_utils.py:336: UserWarning: Passing `gradient_checkpointing` to a config initialization is deprecated and will be removed in v5 Transformers. Using `model.gradient_checkpointing_enable()` instead, or if you are using the `Trainer` API, pass `gradient_checkpointing=True` in your `TrainingArguments`.\n",
      "  warnings.warn(\n"
     ]
    }
   ],
   "metadata": {}
  },
  {
   "cell_type": "code",
   "execution_count": 29,
   "source": [
    "unk_tokens = []"
   ],
   "outputs": [],
   "metadata": {}
  },
  {
   "cell_type": "code",
   "execution_count": 30,
   "source": [
    "for doc in tqdm(train_documents) :\n",
    "    sen_list = sent_tokenize(doc)\n",
    "\n",
    "    for sen in sen_list :\n",
    "        word_list = word_tokenize(sen)\n",
    "\n",
    "        for word in word_list :\n",
    "            if tokenizer.unk_token_id == tokenizer.convert_tokens_to_ids(word) :\n",
    "                unk_tokens.append(word)\n"
   ],
   "outputs": [
    {
     "output_type": "stream",
     "name": "stderr",
     "text": [
      "100%|██████████| 158328/158328 [25:26<00:00, 103.73it/s]\n"
     ]
    }
   ],
   "metadata": {}
  },
  {
   "cell_type": "code",
   "execution_count": 33,
   "source": [
    "unk_token_counter = collections.Counter()"
   ],
   "outputs": [],
   "metadata": {}
  },
  {
   "cell_type": "code",
   "execution_count": 34,
   "source": [
    "unk_token_counter.update(unk_tokens)"
   ],
   "outputs": [],
   "metadata": {}
  },
  {
   "cell_type": "code",
   "execution_count": 35,
   "source": [
    "len(unk_token_counter)"
   ],
   "outputs": [
    {
     "output_type": "execute_result",
     "data": {
      "text/plain": [
       "775515"
      ]
     },
     "metadata": {},
     "execution_count": 35
    }
   ],
   "metadata": {}
  },
  {
   "cell_type": "code",
   "execution_count": 59,
   "source": [
    "unk_token_dict = sorted(unk_token_counter.items(), key=lambda x : x[1], reverse=True)"
   ],
   "outputs": [],
   "metadata": {}
  },
  {
   "cell_type": "code",
   "execution_count": 64,
   "source": [
    "tok_list = [tok[0] for tok in unk_token_dict]\n",
    "count_list = [tok[1] for tok in unk_token_dict]\n",
    "idx_list = list(range(len(unk_token_dict)))\n",
    "\n",
    "unk_token_dict = pd.DataFrame({'Token' : tok_list,\n",
    "    'Count' : count_list, \n",
    "    'Index' : idx_list})"
   ],
   "outputs": [],
   "metadata": {}
  },
  {
   "cell_type": "code",
   "execution_count": 67,
   "source": [
    "unk_token_dict.to_csv('../Tokenizer/unk_tokens.csv')"
   ],
   "outputs": [],
   "metadata": {}
  },
  {
   "cell_type": "markdown",
   "source": [
    "## Tokenizer Optimization"
   ],
   "metadata": {}
  },
  {
   "cell_type": "code",
   "execution_count": 105,
   "source": [
    "tokenizer = AutoTokenizer.from_pretrained('t5-small')"
   ],
   "outputs": [
    {
     "output_type": "stream",
     "name": "stderr",
     "text": [
      "/opt/conda/lib/python3.8/site-packages/transformers/configuration_utils.py:336: UserWarning: Passing `gradient_checkpointing` to a config initialization is deprecated and will be removed in v5 Transformers. Using `model.gradient_checkpointing_enable()` instead, or if you are using the `Trainer` API, pass `gradient_checkpointing=True` in your `TrainingArguments`.\n",
      "  warnings.warn(\n"
     ]
    }
   ],
   "metadata": {}
  },
  {
   "cell_type": "code",
   "execution_count": 106,
   "source": [
    "def get_size(tokenizer) :\n",
    "    count = 0 \n",
    "    for tok in tokenizer.vocab :\n",
    "        if 'extra_id' in tok :\n",
    "            count += 1\n",
    "    return count"
   ],
   "outputs": [],
   "metadata": {}
  },
  {
   "cell_type": "code",
   "execution_count": 107,
   "source": [
    "get_size(tokenizer)"
   ],
   "outputs": [
    {
     "output_type": "execute_result",
     "data": {
      "text/plain": [
       "100"
      ]
     },
     "metadata": {},
     "execution_count": 107
    }
   ],
   "metadata": {}
  },
  {
   "cell_type": "code",
   "execution_count": 88,
   "source": [
    "tokenizer.save_pretrained('../Tokenizer')"
   ],
   "outputs": [
    {
     "output_type": "execute_result",
     "data": {
      "text/plain": [
       "('../Tokenizer/tokenizer_config.json',\n",
       " '../Tokenizer/special_tokens_map.json',\n",
       " '../Tokenizer/tokenizer.json')"
      ]
     },
     "metadata": {},
     "execution_count": 88
    }
   ],
   "metadata": {}
  },
  {
   "cell_type": "code",
   "execution_count": 89,
   "source": [
    "extra_token_df = pd.read_csv('../Tokenizer/extra_tokens.csv')\n",
    "extra_token_list = list(extra_token_df['Token'][:100])"
   ],
   "outputs": [],
   "metadata": {}
  },
  {
   "cell_type": "markdown",
   "source": [
    "### special_tokens_map.json"
   ],
   "metadata": {}
  },
  {
   "cell_type": "code",
   "execution_count": 90,
   "source": [
    "with open('../Tokenizer/special_tokens_map.json') as json_file:\n",
    "    special_tokens_map = json.load(json_file)\n",
    "\n",
    "special_tokens_map['additional_special_tokens'] = extra_token_list\n",
    "\n",
    "with open('../Tokenizer/special_tokens_map.json', 'w') as json_file:\n",
    "    json.dump(special_tokens_map, json_file)"
   ],
   "outputs": [],
   "metadata": {}
  },
  {
   "cell_type": "markdown",
   "source": [
    "### tokenizer_config.json"
   ],
   "metadata": {}
  },
  {
   "cell_type": "code",
   "execution_count": 91,
   "source": [
    "with open('../Tokenizer/tokenizer_config.json') as json_file:\n",
    "    tokenizer_config = json.load(json_file)\n",
    "\n",
    "tokenizer_config['additional_special_tokens'] = extra_token_list\n",
    "\n",
    "with open('../Tokenizer/tokenizer_config.json', 'w') as json_file:\n",
    "    json.dump(tokenizer_config, json_file)"
   ],
   "outputs": [],
   "metadata": {}
  },
  {
   "cell_type": "markdown",
   "source": [
    "### tokenizer.json"
   ],
   "metadata": {}
  },
  {
   "cell_type": "code",
   "execution_count": 92,
   "source": [
    "with open('../Tokenizer/tokenizer.json') as json_file:\n",
    "    tokenizer_data = json.load(json_file)"
   ],
   "outputs": [],
   "metadata": {}
  },
  {
   "cell_type": "code",
   "execution_count": 93,
   "source": [
    "tokenizer_data.keys()"
   ],
   "outputs": [
    {
     "output_type": "execute_result",
     "data": {
      "text/plain": [
       "dict_keys(['version', 'truncation', 'padding', 'added_tokens', 'normalizer', 'pre_tokenizer', 'post_processor', 'decoder', 'model'])"
      ]
     },
     "metadata": {},
     "execution_count": 93
    }
   ],
   "metadata": {}
  },
  {
   "cell_type": "code",
   "execution_count": 94,
   "source": [
    "len(tokenizer_data['model']['vocab'])"
   ],
   "outputs": [
    {
     "output_type": "execute_result",
     "data": {
      "text/plain": [
       "32100"
      ]
     },
     "metadata": {},
     "execution_count": 94
    }
   ],
   "metadata": {}
  },
  {
   "cell_type": "code",
   "execution_count": 95,
   "source": [
    "# model vocab\n",
    "for i in range(32000, len(tokenizer)) :\n",
    "    tokenizer_data['model']['vocab'][i] = [extra_token_list[i-32000], 0.0]"
   ],
   "outputs": [],
   "metadata": {}
  },
  {
   "cell_type": "code",
   "execution_count": 99,
   "source": [
    "for i in range(3, len(tokenizer_data['added_tokens'])) :\n",
    "    tokenizer_data['added_tokens'][i]['content'] = extra_token_list[i-3]"
   ],
   "outputs": [],
   "metadata": {}
  },
  {
   "cell_type": "code",
   "execution_count": 100,
   "source": [
    "with open('../Tokenizer/tokenizer.json', 'w') as json_file:\n",
    "    json.dump(tokenizer_data, json_file)"
   ],
   "outputs": [],
   "metadata": {}
  },
  {
   "cell_type": "markdown",
   "source": [
    "## Optimize Result"
   ],
   "metadata": {}
  },
  {
   "cell_type": "code",
   "execution_count": 101,
   "source": [
    "tokenizer = AutoTokenizer.from_pretrained('../Tokenizer', extra_ids=0)"
   ],
   "outputs": [],
   "metadata": {}
  },
  {
   "cell_type": "code",
   "execution_count": 102,
   "source": [
    "len(tokenizer)"
   ],
   "outputs": [
    {
     "output_type": "execute_result",
     "data": {
      "text/plain": [
       "32100"
      ]
     },
     "metadata": {},
     "execution_count": 102
    }
   ],
   "metadata": {}
  },
  {
   "cell_type": "code",
   "execution_count": 103,
   "source": [
    "tokenizer.convert_tokens_to_ids('as')"
   ],
   "outputs": [
    {
     "output_type": "execute_result",
     "data": {
      "text/plain": [
       "32000"
      ]
     },
     "metadata": {},
     "execution_count": 103
    }
   ],
   "metadata": {}
  }
 ],
 "metadata": {
  "orig_nbformat": 4,
  "kernelspec": {
   "name": "python3",
   "display_name": "Python 3.8.5 64-bit ('base': conda)"
  },
  "interpreter": {
   "hash": "98b0a9b7b4eaaa670588a142fd0a9b87eaafe866f1db4228be72b4211d12040f"
  },
  "language_info": {
   "name": "python",
   "version": "3.8.5",
   "mimetype": "text/x-python",
   "codemirror_mode": {
    "name": "ipython",
    "version": 3
   },
   "pygments_lexer": "ipython3",
   "nbconvert_exporter": "python",
   "file_extension": ".py"
  }
 },
 "nbformat": 4,
 "nbformat_minor": 2
}